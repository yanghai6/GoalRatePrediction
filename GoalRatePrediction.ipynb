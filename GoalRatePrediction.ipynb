{
  "nbformat": 4,
  "nbformat_minor": 0,
  "metadata": {
    "accelerator": "GPU",
    "colab": {
      "name": "JSC370 A2 Report.ipynb",
      "provenance": [],
      "collapsed_sections": [],
      "toc_visible": true
    },
    "kernelspec": {
      "display_name": "Python 3",
      "name": "python3"
    }
  },
  "cells": [
    {
      "cell_type": "code",
      "metadata": {
        "id": "uRQXTX-33b0n",
        "colab": {
          "base_uri": "https://localhost:8080/"
        },
        "outputId": "11ceaa7b-6f95-47d3-a920-0ffe002d90dc"
      },
      "source": [
        "# Data originally from https://www.kaggle.com/secareanualin/football-events\n",
        "# Related analysis at https://www.kaggle.com/gabrielmanfredi/expected-goals-player-analysis\n",
        "\n",
        "!wget https://jsc370.github.io/events.csv.zip\n",
        "!unzip events.csv.zip\n",
        "\n",
        "!wget https://jsc370.github.io/ginf.csv.zip\n",
        "!unzip ginf.csv.zip\n",
        "\n",
        "!wget https://jsc370.github.io/dictionary.txt\n"
      ],
      "execution_count": 2,
      "outputs": [
        {
          "output_type": "stream",
          "text": [
            "--2021-02-18 03:14:03--  https://jsc370.github.io/events.csv.zip\n",
            "Resolving jsc370.github.io (jsc370.github.io)... 185.199.108.153, 185.199.111.153, 185.199.109.153, ...\n",
            "Connecting to jsc370.github.io (jsc370.github.io)|185.199.108.153|:443... connected.\n",
            "HTTP request sent, awaiting response... 200 OK\n",
            "Length: 21797089 (21M) [application/zip]\n",
            "Saving to: ‘events.csv.zip.1’\n",
            "\n",
            "events.csv.zip.1    100%[===================>]  20.79M  45.2MB/s    in 0.5s    \n",
            "\n",
            "2021-02-18 03:14:04 (45.2 MB/s) - ‘events.csv.zip.1’ saved [21797089/21797089]\n",
            "\n",
            "Archive:  events.csv.zip\n",
            "replace events.csv? [y]es, [n]o, [A]ll, [N]one, [r]ename: N\n",
            "--2021-02-18 03:14:09--  https://jsc370.github.io/ginf.csv.zip\n",
            "Resolving jsc370.github.io (jsc370.github.io)... 185.199.108.153, 185.199.111.153, 185.199.109.153, ...\n",
            "Connecting to jsc370.github.io (jsc370.github.io)|185.199.108.153|:443... connected.\n",
            "HTTP request sent, awaiting response... 200 OK\n",
            "Length: 344339 (336K) [application/zip]\n",
            "Saving to: ‘ginf.csv.zip.1’\n",
            "\n",
            "ginf.csv.zip.1      100%[===================>] 336.27K  --.-KB/s    in 0.04s   \n",
            "\n",
            "2021-02-18 03:14:09 (8.24 MB/s) - ‘ginf.csv.zip.1’ saved [344339/344339]\n",
            "\n",
            "Archive:  ginf.csv.zip\n",
            "replace ginf.csv? [y]es, [n]o, [A]ll, [N]one, [r]ename: N\n",
            "--2021-02-18 03:14:13--  https://jsc370.github.io/dictionary.txt\n",
            "Resolving jsc370.github.io (jsc370.github.io)... 185.199.108.153, 185.199.111.153, 185.199.109.153, ...\n",
            "Connecting to jsc370.github.io (jsc370.github.io)|185.199.108.153|:443... connected.\n",
            "HTTP request sent, awaiting response... 200 OK\n",
            "Length: 1306 (1.3K) [text/plain]\n",
            "Saving to: ‘dictionary.txt.1’\n",
            "\n",
            "dictionary.txt.1    100%[===================>]   1.28K  --.-KB/s    in 0s      \n",
            "\n",
            "2021-02-18 03:14:13 (89.4 MB/s) - ‘dictionary.txt.1’ saved [1306/1306]\n",
            "\n"
          ],
          "name": "stdout"
        }
      ]
    },
    {
      "cell_type": "code",
      "metadata": {
        "id": "D766z8Jg8Qlo"
      },
      "source": [
        "import warnings\n",
        "warnings.filterwarnings('ignore')"
      ],
      "execution_count": 3,
      "outputs": []
    },
    {
      "cell_type": "code",
      "metadata": {
        "id": "HZxs0B-h3dkJ"
      },
      "source": [
        "import pandas as pd\n",
        "import jax.numpy as np\n",
        "import matplotlib.pyplot as plt\n",
        "import seaborn as sns\n",
        "from sklearn.model_selection import train_test_split\n",
        "from sklearn.metrics import accuracy_score, classification_report, confusion_matrix\n",
        "\n",
        "\n",
        "import jax.numpy as jnp\n",
        "import numpy.random as npr\n",
        "from jax.api import jit, grad"
      ],
      "execution_count": 4,
      "outputs": []
    },
    {
      "cell_type": "code",
      "metadata": {
        "id": "mfe_5XtJ3hjh"
      },
      "source": [
        "events = pd.read_csv('events.csv')\n",
        "info = pd.read_csv('ginf.csv')"
      ],
      "execution_count": 5,
      "outputs": []
    },
    {
      "cell_type": "code",
      "metadata": {
        "id": "fdHlVdEX3l9q"
      },
      "source": [
        "# considering data from particular event ( \" 1 = Attempt to shot\")\n",
        "shots = events[events.event_type==1]"
      ],
      "execution_count": 6,
      "outputs": []
    },
    {
      "cell_type": "code",
      "metadata": {
        "id": "EBWQP7DX3o80"
      },
      "source": [
        "# one-hot encoding (binary representation of fature values)\n",
        "\n",
        "data = pd.get_dummies(shots[[\"is_goal\",\"bodypart\",\"situation\"]], columns=['bodypart', 'situation'])\n",
        "data.columns =  ['is_goal','right_foot', 'left_foot', 'header', 'open_play', 'set_piece', 'corner', 'free_kick']"
      ],
      "execution_count": 7,
      "outputs": []
    },
    {
      "cell_type": "markdown",
      "metadata": {
        "id": "XcdU31rkTdFI"
      },
      "source": [
        "# **Soccer!**\n",
        "\n",
        "**Haiyue Yang, Yun Shen, Xin Peng**"
      ]
    },
    {
      "cell_type": "markdown",
      "metadata": {
        "id": "DHV32dRzUKwS"
      },
      "source": [
        "The success of any football match lies in the coaches and managers of soccer teams, since they make decisions for selecting players for matches, planning the strategy and instructing players on the pitch and they are responsible for holding the team together. However, the process of selecting players, deciding the best strategy and supporting players based on their own attributes is always very difficult in real life, and it is hard for humans to make objective decisions based on so many attributes. So in this report, we are going to design a decision-support tool that can aid coaches and managers' decision making process and lead to a successful outcome.\n",
        "\n",
        "We are using the 'Football Events' dataset from Kaggle (https://www.kaggle.com/secareanualin/football-events), which contains 9074 games, 941009 events from soccer leagues: England, Spain, Germany, Italy, France from 2011/2012 season to 2016/2017 season.\n",
        "\n",
        "And we have explored the data, brainstormed what factors could help improve the decision-support tool, proposed several models, and implemented three variants below."
      ]
    },
    {
      "cell_type": "markdown",
      "metadata": {
        "id": "gAdPIxqAcO6E"
      },
      "source": [
        "# Add-on Value of the Data\n",
        "\n",
        "* Design strategies (location-wise) for players: if we analyze the hottest spots in the game, we may develop a strategy to guide players where to stand during the game\n",
        "* Help coaches to better understand what’s important in training\n",
        "* Focus on certain assist methods: some methods are more efficient\n",
        "* Focus on training certain body parts: which muscle is crucial during practice\n"
      ]
    },
    {
      "cell_type": "markdown",
      "metadata": {
        "id": "N0uwsJBocniZ"
      },
      "source": [
        "# Key Factors to Measure Success\n",
        "\n",
        "* Winning of the game, which is the ultimate goal\n",
        "* Saving from unnecessary training: save time and money from things that are less important to the game\n",
        "* Less injury: players are beneficial from special training to avoid injury\n",
        "* Model: best accuracy and least running complexity, since our dataset is very imbalanced, so our model is very cost-sensitive and we must take that into account.\n",
        "* We might also look at F1-score to determine how good our model is, since when the data is so imbalanced that accuracy might not be the only criteria.\n"
      ]
    },
    {
      "cell_type": "markdown",
      "metadata": {
        "id": "wwy50SXzei3W"
      },
      "source": [
        "# Data Exploration\n",
        "\n",
        "Here, I want to discover the performance of each player."
      ]
    },
    {
      "cell_type": "code",
      "metadata": {
        "colab": {
          "base_uri": "https://localhost:8080/",
          "height": 359
        },
        "id": "7rY3EsUDfTQv",
        "outputId": "c574af6e-29f3-41b2-d05a-1f4d222ffb36"
      },
      "source": [
        "players = shots.groupby('player').sum().reset_index()\n",
        "players.rename(columns={'is_goal': 'Goals'}, inplace=True)\n",
        "most_goals = players.sort_values(['Goals'], ascending=False).reset_index(drop=True)\n",
        "most_goals['rank'] = most_goals.index+1\n",
        "most_goals = most_goals[['rank', 'player', 'Goals']].head(10)\n",
        "most_goals['player'] = most_goals['player'].str.title()\n",
        "most_goals"
      ],
      "execution_count": 8,
      "outputs": [
        {
          "output_type": "execute_result",
          "data": {
            "text/html": [
              "<div>\n",
              "<style scoped>\n",
              "    .dataframe tbody tr th:only-of-type {\n",
              "        vertical-align: middle;\n",
              "    }\n",
              "\n",
              "    .dataframe tbody tr th {\n",
              "        vertical-align: top;\n",
              "    }\n",
              "\n",
              "    .dataframe thead th {\n",
              "        text-align: right;\n",
              "    }\n",
              "</style>\n",
              "<table border=\"1\" class=\"dataframe\">\n",
              "  <thead>\n",
              "    <tr style=\"text-align: right;\">\n",
              "      <th></th>\n",
              "      <th>rank</th>\n",
              "      <th>player</th>\n",
              "      <th>Goals</th>\n",
              "    </tr>\n",
              "  </thead>\n",
              "  <tbody>\n",
              "    <tr>\n",
              "      <th>0</th>\n",
              "      <td>1</td>\n",
              "      <td>Lionel Messi</td>\n",
              "      <td>205</td>\n",
              "    </tr>\n",
              "    <tr>\n",
              "      <th>1</th>\n",
              "      <td>2</td>\n",
              "      <td>Cristiano Ronaldo</td>\n",
              "      <td>198</td>\n",
              "    </tr>\n",
              "    <tr>\n",
              "      <th>2</th>\n",
              "      <td>3</td>\n",
              "      <td>Zlatan Ibrahimovic</td>\n",
              "      <td>153</td>\n",
              "    </tr>\n",
              "    <tr>\n",
              "      <th>3</th>\n",
              "      <td>4</td>\n",
              "      <td>Robert Lewandowski</td>\n",
              "      <td>124</td>\n",
              "    </tr>\n",
              "    <tr>\n",
              "      <th>4</th>\n",
              "      <td>5</td>\n",
              "      <td>Edinson Cavani</td>\n",
              "      <td>121</td>\n",
              "    </tr>\n",
              "    <tr>\n",
              "      <th>5</th>\n",
              "      <td>6</td>\n",
              "      <td>Gonzalo Higuain</td>\n",
              "      <td>118</td>\n",
              "    </tr>\n",
              "    <tr>\n",
              "      <th>6</th>\n",
              "      <td>7</td>\n",
              "      <td>Pierreemerick Aubameyang</td>\n",
              "      <td>100</td>\n",
              "    </tr>\n",
              "    <tr>\n",
              "      <th>7</th>\n",
              "      <td>8</td>\n",
              "      <td>Luis Suarez</td>\n",
              "      <td>96</td>\n",
              "    </tr>\n",
              "    <tr>\n",
              "      <th>8</th>\n",
              "      <td>9</td>\n",
              "      <td>Diego Costa</td>\n",
              "      <td>93</td>\n",
              "    </tr>\n",
              "    <tr>\n",
              "      <th>9</th>\n",
              "      <td>10</td>\n",
              "      <td>Alexandre Lacazette</td>\n",
              "      <td>88</td>\n",
              "    </tr>\n",
              "  </tbody>\n",
              "</table>\n",
              "</div>"
            ],
            "text/plain": [
              "   rank                    player  Goals\n",
              "0     1              Lionel Messi    205\n",
              "1     2         Cristiano Ronaldo    198\n",
              "2     3        Zlatan Ibrahimovic    153\n",
              "3     4        Robert Lewandowski    124\n",
              "4     5            Edinson Cavani    121\n",
              "5     6           Gonzalo Higuain    118\n",
              "6     7  Pierreemerick Aubameyang    100\n",
              "7     8               Luis Suarez     96\n",
              "8     9               Diego Costa     93\n",
              "9    10       Alexandre Lacazette     88"
            ]
          },
          "metadata": {
            "tags": []
          },
          "execution_count": 8
        }
      ]
    },
    {
      "cell_type": "markdown",
      "metadata": {
        "id": "woL4DL4y4AL_"
      },
      "source": [
        "Table I: Top 10 players with the maximum number of goals."
      ]
    },
    {
      "cell_type": "code",
      "metadata": {
        "colab": {
          "base_uri": "https://localhost:8080/",
          "height": 358
        },
        "id": "Lv_hXalmiJXN",
        "outputId": "e05c2eeb-6b61-4936-d651-d52a24f74a14"
      },
      "source": [
        "fig, ax = plt.subplots(figsize=[12,5])\n",
        "ax = sns.barplot(x=abs(most_goals['Goals']), y=most_goals['player'], palette=\"rocket\", alpha=0.9)\n",
        "ax.set_xlabel(xlabel='Goals', fontsize=12)\n",
        "ax.set_ylabel(ylabel='')\n",
        "ax.set_yticklabels(labels=ax.get_yticklabels(), fontsize=12)\n",
        "plt.title(\"Best Finishers: most number of goals\", fontsize=20)\n",
        "ax.grid(color='black', linestyle='-', linewidth=0.1, alpha=0.8, axis='x')\n",
        "plt.show()\n"
      ],
      "execution_count": 9,
      "outputs": [
        {
          "output_type": "display_data",
          "data": {
            "image/png": "[encoded data removed]",
            "text/plain": [
              "<Figure size 864x360 with 1 Axes>"
            ]
          },
          "metadata": {
            "tags": [],
            "needs_background": "light"
          }
        }
      ]
    },
    {
      "cell_type": "markdown",
      "metadata": {
        "id": "chp7LZ1eLEmK"
      },
      "source": [
        "The result corresponds to our common sense. We see some famous names: Messi, Ronaldo and Ibrahimović are on top of the chart. Messi socres over 200 goals in the league, whereas Ronaldo is slightly below him and scores 198 goals. Besides these two superstars, other top scoring players score around 100 goals."
      ]
    },
    {
      "cell_type": "markdown",
      "metadata": {
        "id": "ENkkwEDyMGeZ"
      },
      "source": [
        "Next, I will do some analysis on yellow cards and red cards."
      ]
    },
    {
      "cell_type": "code",
      "metadata": {
        "colab": {
          "base_uri": "https://localhost:8080/",
          "height": 412
        },
        "id": "SOBlruL4i_X6",
        "outputId": "b593d659-de62-4207-bf8b-861b1bc18f50"
      },
      "source": [
        "yellow_card = events[events[\"event_type\"]==4]\n",
        "plt.figure(figsize=(8,6))\n",
        "plt.hist(yellow_card.time, width=8, bins=9)   \n",
        "plt.xlabel(\"Minutes\", fontsize=12)\n",
        "plt.ylabel(\"Number of yellow cards\", fontsize=12)\n",
        "plt.title(\"Number of yellow cards against Time during match\", fontsize=20)\n",
        "plt.show()"
      ],
      "execution_count": 10,
      "outputs": [
        {
          "output_type": "display_data",
          "data": {
            "image/png": "[encoded data removed]",
            "text/plain": [
              "<Figure size 576x432 with 1 Axes>"
            ]
          },
          "metadata": {
            "tags": [],
            "needs_background": "light"
          }
        }
      ]
    },
    {
      "cell_type": "code",
      "metadata": {
        "colab": {
          "base_uri": "https://localhost:8080/",
          "height": 286
        },
        "id": "qJVIUDRIjuMH",
        "outputId": "28d1d643-8e25-42e3-89b2-3e61e62b0a5c"
      },
      "source": [
        "yellow_home = yellow_card[yellow_card[\"side\"] == 1].shape[0]\n",
        "yellow_away = yellow_card[yellow_card[\"side\"] == 2].shape[0]\n",
        "total_yellow = pd.DataFrame({\"type\": ['Home', 'Away'], \"number\": [yellow_home, yellow_away]})\n",
        "plt.bar(total_yellow['type'], total_yellow.number)\n",
        "plt.title(\"Number of yellow cards (Home/Away)\",fontsize=20)\n",
        "plt.show()"
      ],
      "execution_count": 11,
      "outputs": [
        {
          "output_type": "display_data",
          "data": {
            "image/png": "[encoded data removed]",
            "text/plain": [
              "<Figure size 432x288 with 1 Axes>"
            ]
          },
          "metadata": {
            "tags": [],
            "needs_background": "light"
          }
        }
      ]
    },
    {
      "cell_type": "markdown",
      "metadata": {
        "id": "43iwffahMP4X"
      },
      "source": [
        "For yelloe cards, I observe that most of the yellow cards are issued in the second half of the game, especially around 80mins. The reasons might be that players' temper rises as the game moves on and they are more likely to take risky moves to secure the game.\n",
        "\n",
        "More yellow cards has been issued to the away team compared to the home team."
      ]
    },
    {
      "cell_type": "code",
      "metadata": {
        "colab": {
          "base_uri": "https://localhost:8080/",
          "height": 412
        },
        "id": "kpeaSrWVn71g",
        "outputId": "62f474ce-e152-4eb0-d4b4-abd794f4a942"
      },
      "source": [
        "second_yellow = events[events[\"event_type\"]==5]\n",
        "red = events[events[\"event_type\"]==6]\n",
        "reds=[second_yellow,red]\n",
        "red_cards=pd.concat(reds)\n",
        "plt.figure(figsize=(8,6))\n",
        "plt.hist(red_cards.time, width=8, bins=9)   \n",
        "plt.xlabel(\"Minutes\", fontsize=12)\n",
        "plt.ylabel(\"Number of red cards\", fontsize=12)\n",
        "plt.title(\"Number of red cards against Time during match\", fontsize=20)\n",
        "plt.show()"
      ],
      "execution_count": 12,
      "outputs": [
        {
          "output_type": "display_data",
          "data": {
            "image/png": "[encoded data removed]",
            "text/plain": [
              "<Figure size 576x432 with 1 Axes>"
            ]
          },
          "metadata": {
            "tags": [],
            "needs_background": "light"
          }
        }
      ]
    },
    {
      "cell_type": "code",
      "metadata": {
        "colab": {
          "base_uri": "https://localhost:8080/",
          "height": 286
        },
        "id": "OJv6ctcXovsP",
        "outputId": "23115df8-fe8a-4df7-944e-beff4f3ad34e"
      },
      "source": [
        "red_home = red_cards[red_cards[\"side\"] == 1].shape[0]\n",
        "red_away = red_cards[red_cards[\"side\"] == 2].shape[0]\n",
        "total_red = pd.DataFrame({\"type\": ['Home', 'Away'], \"number\": [red_home, red_away]})\n",
        "plt.bar(total_red['type'], total_red.number)\n",
        "plt.title(\"Number of red cards (Home/Away)\",fontsize=20)\n",
        "plt.show()"
      ],
      "execution_count": 13,
      "outputs": [
        {
          "output_type": "display_data",
          "data": {
            "image/png": "[encoded data removed]",
            "text/plain": [
              "<Figure size 432x288 with 1 Axes>"
            ]
          },
          "metadata": {
            "tags": [],
            "needs_background": "light"
          }
        }
      ]
    },
    {
      "cell_type": "markdown",
      "metadata": {
        "id": "xErL6nXgM--B"
      },
      "source": [
        "For the red cards, there is a clear increasing pattern where the probability of receiving a red card is higher as the game moves through. There is a sharp increase at about 80mins, which id similar to the yellow cards.\n",
        "\n",
        "Also, more red cards has been issued to the away team compared to the home team. So, I am curious whether the referee has a favour to the home team."
      ]
    },
    {
      "cell_type": "markdown",
      "metadata": {
        "id": "lDrA-0bEHmpf"
      },
      "source": [
        "## Problems in Data"
      ]
    },
    {
      "cell_type": "code",
      "metadata": {
        "colab": {
          "base_uri": "https://localhost:8080/"
        },
        "id": "GwgiXAuuHmEM",
        "outputId": "66f00043-42b7-4ce5-c1da-b314464192e0"
      },
      "source": [
        "num_shots = shots[['id_event', 'player']].groupby('player').agg('count')\n",
        "print(num_shots.describe())"
      ],
      "execution_count": 14,
      "outputs": [
        {
          "output_type": "stream",
          "text": [
            "          id_event\n",
            "count  4787.000000\n",
            "mean     47.863380\n",
            "std      73.901184\n",
            "min       1.000000\n",
            "25%       6.000000\n",
            "50%      21.000000\n",
            "75%      57.000000\n",
            "max    1190.000000\n"
          ],
          "name": "stdout"
        }
      ]
    },
    {
      "cell_type": "code",
      "metadata": {
        "colab": {
          "base_uri": "https://localhost:8080/",
          "height": 281
        },
        "id": "KI45Mz6dH-zi",
        "outputId": "8046b68e-9784-4d79-c9f7-a04456deeaca"
      },
      "source": [
        "plt.title(\"Number of Shots per Player\")\n",
        "plt.boxplot(num_shots['id_event'])\n",
        "plt.show()"
      ],
      "execution_count": 16,
      "outputs": [
        {
          "output_type": "display_data",
          "data": {
            "image/png": "[encoded data removed]",
            "text/plain": [
              "<Figure size 432x288 with 1 Axes>"
            ]
          },
          "metadata": {
            "tags": [],
            "needs_background": "light"
          }
        }
      ]
    },
    {
      "cell_type": "code",
      "metadata": {
        "colab": {
          "base_uri": "https://localhost:8080/",
          "height": 390
        },
        "id": "rTNvBS6SHzAk",
        "outputId": "27cf610b-9dde-497b-a231-0a8d39704d28"
      },
      "source": [
        "num_shots.sort_values('id_event', ascending=False).head(10)"
      ],
      "execution_count": 17,
      "outputs": [
        {
          "output_type": "execute_result",
          "data": {
            "text/html": [
              "<div>\n",
              "<style scoped>\n",
              "    .dataframe tbody tr th:only-of-type {\n",
              "        vertical-align: middle;\n",
              "    }\n",
              "\n",
              "    .dataframe tbody tr th {\n",
              "        vertical-align: top;\n",
              "    }\n",
              "\n",
              "    .dataframe thead th {\n",
              "        text-align: right;\n",
              "    }\n",
              "</style>\n",
              "<table border=\"1\" class=\"dataframe\">\n",
              "  <thead>\n",
              "    <tr style=\"text-align: right;\">\n",
              "      <th></th>\n",
              "      <th>id_event</th>\n",
              "    </tr>\n",
              "    <tr>\n",
              "      <th>player</th>\n",
              "      <th></th>\n",
              "    </tr>\n",
              "  </thead>\n",
              "  <tbody>\n",
              "    <tr>\n",
              "      <th>cristiano ronaldo</th>\n",
              "      <td>1190</td>\n",
              "    </tr>\n",
              "    <tr>\n",
              "      <th>lionel messi</th>\n",
              "      <td>914</td>\n",
              "    </tr>\n",
              "    <tr>\n",
              "      <th>zlatan ibrahimovic</th>\n",
              "      <td>774</td>\n",
              "    </tr>\n",
              "    <tr>\n",
              "      <th>robert lewandowski</th>\n",
              "      <td>633</td>\n",
              "    </tr>\n",
              "    <tr>\n",
              "      <th>edinson cavani</th>\n",
              "      <td>623</td>\n",
              "    </tr>\n",
              "    <tr>\n",
              "      <th>pierreemerick aubameyang</th>\n",
              "      <td>580</td>\n",
              "    </tr>\n",
              "    <tr>\n",
              "      <th>antonio candreva</th>\n",
              "      <td>556</td>\n",
              "    </tr>\n",
              "    <tr>\n",
              "      <th>gonzalo higuain</th>\n",
              "      <td>552</td>\n",
              "    </tr>\n",
              "    <tr>\n",
              "      <th>antonio di natale</th>\n",
              "      <td>515</td>\n",
              "    </tr>\n",
              "    <tr>\n",
              "      <th>antoine griezmann</th>\n",
              "      <td>493</td>\n",
              "    </tr>\n",
              "  </tbody>\n",
              "</table>\n",
              "</div>"
            ],
            "text/plain": [
              "                          id_event\n",
              "player                            \n",
              "cristiano ronaldo             1190\n",
              "lionel messi                   914\n",
              "zlatan ibrahimovic             774\n",
              "robert lewandowski             633\n",
              "edinson cavani                 623\n",
              "pierreemerick aubameyang       580\n",
              "antonio candreva               556\n",
              "gonzalo higuain                552\n",
              "antonio di natale              515\n",
              "antoine griezmann              493"
            ]
          },
          "metadata": {
            "tags": []
          },
          "execution_count": 17
        }
      ]
    },
    {
      "cell_type": "markdown",
      "metadata": {
        "id": "YOxadQHLInZd"
      },
      "source": [
        "From the boxplot, we discovered that there are lots of outliers at the larger end. However, these outliers are not a probelm indeed. They are the records for the world famous players who did have a lot of attempts to goal. The real problem is that most of the users do not have many records in the data sets. 25% of the players have fewer than 6 attempts to goal and even there are a large proportion of them only have 1 record. Therefore, predictions for these players might not be very believable. \n"
      ]
    },
    {
      "cell_type": "markdown",
      "metadata": {
        "id": "N1G1qEIYI27w"
      },
      "source": [
        "## Shots per Player"
      ]
    },
    {
      "cell_type": "code",
      "metadata": {
        "colab": {
          "base_uri": "https://localhost:8080/",
          "height": 281
        },
        "id": "gWp7Jh_wI9v6",
        "outputId": "a3b4906e-7edb-43bd-b332-a00a3d5d9d60"
      },
      "source": [
        "plt.title(\"Number of Shots per Player\")\n",
        "plt.hist(num_shots['id_event'], bins = 10) \n",
        "plt.show()"
      ],
      "execution_count": 18,
      "outputs": [
        {
          "output_type": "display_data",
          "data": {
            "image/png": "[encoded data removed]",
            "text/plain": [
              "<Figure size 432x288 with 1 Axes>"
            ]
          },
          "metadata": {
            "tags": [],
            "needs_background": "light"
          }
        }
      ]
    },
    {
      "cell_type": "markdown",
      "metadata": {
        "id": "iM3H4dIRJEWE"
      },
      "source": [
        "The distribution of the number of shots per player is strongly skewed to the right. Most of the players have less than 100 shots.\n"
      ]
    },
    {
      "cell_type": "markdown",
      "metadata": {
        "id": "rhIqx9ZPJJWs"
      },
      "source": [
        "## Goals by Body Part"
      ]
    },
    {
      "cell_type": "code",
      "metadata": {
        "id": "QyLCVjYlJZMJ"
      },
      "source": [
        "bodypart = shots[[\"is_goal\",\"bodypart\"]]\n",
        "bodypart['bodypart'] = str(bodypart['bodypart'])\n",
        "bodypart = shots[[\"is_goal\",\"bodypart\"]].groupby('bodypart').agg('count')"
      ],
      "execution_count": 20,
      "outputs": []
    },
    {
      "cell_type": "code",
      "metadata": {
        "colab": {
          "base_uri": "https://localhost:8080/",
          "height": 281
        },
        "id": "QD-ycOQEJP0l",
        "outputId": "22b8b4bd-f370-405c-b2a6-0e9c74e41b00"
      },
      "source": [
        "plt.title(\"Number of Goals by Each Body Part\")\n",
        "plt.bar(bodypart.index, bodypart['is_goal'])\n",
        "plt.show()"
      ],
      "execution_count": 21,
      "outputs": [
        {
          "output_type": "display_data",
          "data": {
            "image/png": "[encoded data removed]",
            "text/plain": [
              "<Figure size 432x288 with 1 Axes>"
            ]
          },
          "metadata": {
            "tags": [],
            "needs_background": "light"
          }
        }
      ]
    },
    {
      "cell_type": "markdown",
      "metadata": {
        "id": "y4D5vgbeJbQB"
      },
      "source": [
        "The shots are only classified into 3 different body part. However, the data can be finer-grained by classifying the body parts in a more precise way. For instance, by left foot, by right foot, by head, by knee, or by chest. The performance of a shot by head and a shot by knee can be different, but if they are both classified as the part ‘other’, the difference between outcomes cannot be identified.\n"
      ]
    },
    {
      "cell_type": "markdown",
      "metadata": {
        "id": "go5OmfnEtas7"
      },
      "source": [
        "# Brainstorm a comprehensive list of factors that could affect the recorded data.\n",
        "\n",
        "Before building up a model, it is important to notice that there are many factors that could conceivably influence the recorded data in real life, like the wrong data and many subjective and objective factors that affect whether a shot is a goal. Here are some of these factors:\n",
        "\n",
        "*   Incorrect data due to using webscraping, integrating and regex, since the author of the dataset webscraped and integrated different data sources, and then used regex to derive data.\n",
        "*   Missing data when recording, since the author of the dataset said \"there are games that have been played during these seasons for which I could not collect detailed data\".\n",
        "*   Incorrect data in the original data sources or websites.\n",
        "*   Weather condition.\n",
        "*   Whether the team adapts to the field.\n",
        "*   Team's injuries.\n",
        "*   Team's schedules.\n",
        "*   Team's moltivation.\n",
        "*   Team's playing strategy.\n",
        "*   Team's last game outcome, since this will affect player's mental conditions.\n",
        "*   Synergy or conflict between teammates\n",
        "*   Psychological aspects like the ability under pressure.\n",
        "*   Medical conditions of the players.\n",
        "*   Whether the player is a substitute player or not.\n",
        "*   Refs bad call or missed call."
      ]
    },
    {
      "cell_type": "markdown",
      "metadata": {
        "id": "A0GoV0u0z1ac"
      },
      "source": [
        "# Complementary Sources of Data\n",
        "Since many factors that are not recoreded in this data can also affect the game outcome, or whether a shot is a goal or not, here are some complementary sources of data that might be useful in providing some extra information.\n",
        "*   More detailed information about players, e.g., their position, style of play, how many minutes they have played in a specific game, joining time, medical condition.\n",
        "*   More detailed information about teams, e.g., injuries, schedules.\n",
        "*   Information about commentaries.\n",
        "*   Information about some objective conditions, e.g., weather, field.\n",
        "*   Information about the goalkeeper, e.g., goalkeeper's performance, whether the goalkeeper is facing the attempt.\n",
        "*   Video recording from multiple positions.\n",
        "*   Dynamic analysis of the shot."
      ]
    },
    {
      "cell_type": "markdown",
      "metadata": {
        "id": "qy51qntCz-rm"
      },
      "source": [
        "# Model Staircase\n",
        "\n",
        "Here are some models we proposed.\n",
        "\n",
        "*   Logistic regression using \"bodypart\", \"situation\" (baseline model).\n",
        "*   Use mean number of goals by each player assuming the probability that a shot is a goal for each player remains the same.\n",
        "*   Logistic regression using \"side\", \"location\", \"bodypart\", \"assist_method\", \"situation\".\n",
        "*   Resampling training dataset - undersample majority class (Variant 1 subvariant 1).\n",
        "*   Resampling training dataset - oversample minority class (Variant 1 subvariant 2).\n",
        "*   Resampling training dataset - oversample minority class + add prior correction for the bias term (Variant 1 subvariant 3).\n",
        "*   Change the threshold of baseline logistic regression from 0.5 to some smaller value like 0.2.\n",
        "*   Use neural network (Variant 2).\n",
        "*   Use decision tree as the classifier (Variant 2 subvariant).\n",
        "*   Use random forest as the classifier (Variant 2 subvariant).\n",
        "*   Use AdaBoost as the classifier (Variant 2 subvariant).\n",
        "*   Use gradient boosting as the classifier (Variant 2 subvariant).\n",
        "*   Use KNN as the classifier (Variant 2 subvariant).\n",
        "*   Add a latent variable for each player and each attempt (Varaint 3)."
      ]
    },
    {
      "cell_type": "markdown",
      "metadata": {
        "id": "hmx6hkh63S4Y"
      },
      "source": [
        "# Baseline Model(Logistic Regression)"
      ]
    },
    {
      "cell_type": "markdown",
      "metadata": {
        "id": "iaHwnzOMujLy"
      },
      "source": [
        "The baseline model uses logistic regression. \n",
        "\n",
        "$z = w^Tx+b$\n",
        "\n",
        "$y = \\sigma(z) = \\frac{1}{1+e^{-z}}$\n",
        "\n",
        "And it uses cross entropy loss\n",
        "$\\mathcal{L}_{CE}(y, t) = -tlogy-(1-t)log(1-y)$ and variables 'bodypart' and 'situation'.\n",
        "\n",
        "And the testing and training data is obtained by simply splitting the original data into random training and testing subsets."
      ]
    },
    {
      "cell_type": "markdown",
      "metadata": {
        "id": "dFiw0XO4xX2L"
      },
      "source": [
        "From the result, it seems that the baseline model predicts well since its training accuracy is 89.30707 and testing accuracy is 89.43854. However, from the histogram, we can see that this model simply predicts all observations to be 0, and its $f_1$ score for 'is_goal=1' is 0. \n",
        "\n",
        "So in the variants below, we are trying to improve the model performance, decrease loss and increase $f_1$ score for 'is_goal=1'."
      ]
    },
    {
      "cell_type": "code",
      "metadata": {
        "id": "CewJLfpmUHkZ"
      },
      "source": [
        "# train test split and format data.\n",
        "X = data.drop([\"is_goal\"],axis =1)\n",
        "y = data[\"is_goal\"]\n",
        "X_train_data, X_test_data, y_train_data, y_test_data = train_test_split(X, y, test_size=0.2, random_state=1)\n",
        "X_train = np.float32(np.array(X_train_data))\n",
        "X_test = np.float32(np.array(X_test_data))\n",
        "y_train = np.float32(np.array(y_train_data))\n",
        "y_test = np.float32(np.array(y_test_data))\n",
        "\n",
        "c_train = np.ones((X_train.shape[0], 1))               # intercept \n",
        "X_train = np.concatenate((c_train, X_train), axis=1)   # Add intercept to the original feature set\n",
        "c_test = np.ones((X_test.shape[0], 1)) \n",
        "X_test = np.concatenate((c_test, X_test), axis=1)\n"
      ],
      "execution_count": null,
      "outputs": []
    },
    {
      "cell_type": "markdown",
      "metadata": {
        "id": "mFu3DSCO4jtR"
      },
      "source": [
        "Number of epoch, training loss, training accuracy, testing accuracy using baseline model:\n",
        "\n"
      ]
    },
    {
      "cell_type": "code",
      "metadata": {
        "colab": {
          "base_uri": "https://localhost:8080/"
        },
        "id": "UaeeShlc3zgK",
        "outputId": "8727c8d6-85ec-4102-9911-f78fe730a5fc"
      },
      "source": [
        "# Simple logistic regression model.\n",
        "\n",
        "from jax.api import vmap   # Takes a function that operates on a single\n",
        "                           # example, and vectorizes it to work on a batch.\n",
        "\n",
        "epochs = 2200\n",
        "learning_rate = 0.2\n",
        "test_accuracy_lst1 = []\n",
        "\n",
        "theta = np.zeros(X_train.shape[1])       # initialize weights \n",
        "\n",
        "def sigmoid(z):\n",
        "  return 1.0 / (1.0 + np.exp(-z))\n",
        "\n",
        "def logreg_pred(params, X):\n",
        "  return sigmoid(np.dot(X, params))\n",
        "\n",
        "def log_bernoulli(y, p):\n",
        "  return np.mean(y * np.log(p) + (1.0 - y) * np.log(1.0 - p))\n",
        "\n",
        "# CE loss\n",
        "def single_loss(params, X, y):\n",
        "  return -log_bernoulli(y, logreg_pred(params, X))\n",
        "\n",
        "def batch_loss(params, X, y):\n",
        "  vectorized_logprob = vmap(single_loss, (None, 0, 0))  # Vectorize over X and y.\n",
        "  return np.mean(vectorized_logprob(params, X, y))\n",
        "\n",
        "def accuracy(params, x, y):\n",
        "  pred = logreg_pred(params, x)\n",
        "  return 100.0 * np.mean(np.round(pred) == y)\n",
        "\n",
        "print(grad(batch_loss)(theta, X_train, y_train))\n",
        "\n",
        "train_loss = [] # loss history \n",
        "\n",
        "for i in range(epochs):\n",
        "  theta = theta - learning_rate * grad(batch_loss)(theta, X_train, y_train)\n",
        "  if i % 50 == 0:\n",
        "    loss_tr = batch_loss(theta, X_train, y_train)\n",
        "    train_loss.append(loss_tr)\n",
        "    train_accuracy = accuracy(theta, X_train, y_train)\n",
        "    test_accuracy = accuracy(theta, X_test, y_test)\n",
        "    test_accuracy_lst1.append(test_accuracy)\n",
        "    print(i, loss_tr, np.mean(train_accuracy), np.mean(test_accuracy))\n"
      ],
      "execution_count": null,
      "outputs": [
        {
          "output_type": "stream",
          "text": [
            "[0.39307082 0.2068895  0.12631471 0.05986647 0.34710723 0.00963406\n",
            " 0.02761745 0.00871211]\n",
            "0 0.62918705 89.30707 89.43854\n",
            "50 0.334494 89.30707 89.43854\n",
            "100 0.3323569 89.30707 89.43854\n",
            "150 0.3316706 89.30707 89.43854\n",
            "200 0.3312175 89.30707 89.43854\n",
            "250 0.33089313 89.30707 89.43854\n",
            "300 0.33065045 89.30707 89.43854\n",
            "350 0.33046293 89.30707 89.43854\n",
            "400 0.3303147 89.30707 89.43854\n",
            "450 0.33019555 89.30707 89.43854\n",
            "500 0.33009854 89.30707 89.43854\n",
            "550 0.3300188 89.30707 89.43854\n",
            "600 0.32995275 89.30707 89.43854\n",
            "650 0.32989773 89.30707 89.43854\n",
            "700 0.3298515 89.30707 89.43854\n",
            "750 0.3298124 89.30707 89.43854\n",
            "800 0.32977915 89.30707 89.43854\n",
            "850 0.3297507 89.30707 89.43854\n",
            "900 0.32972625 89.30707 89.43854\n",
            "950 0.329705 89.30707 89.43854\n",
            "1000 0.32968655 89.30707 89.43854\n",
            "1050 0.3296703 89.30707 89.43854\n",
            "1100 0.32965598 89.30707 89.43854\n",
            "1150 0.3296434 89.30707 89.43854\n",
            "1200 0.3296321 89.30707 89.43854\n",
            "1250 0.32962206 89.30707 89.43854\n",
            "1300 0.329613 89.30707 89.43854\n",
            "1350 0.32960486 89.30707 89.43854\n",
            "1400 0.32959744 89.30707 89.43854\n",
            "1450 0.32959077 89.30707 89.43854\n",
            "1500 0.3295847 89.30707 89.43854\n",
            "1550 0.32957914 89.30707 89.43854\n",
            "1600 0.32957405 89.30707 89.43854\n",
            "1650 0.3295694 89.30707 89.43854\n",
            "1700 0.32956502 89.30707 89.43854\n",
            "1750 0.3295611 89.30707 89.43854\n",
            "1800 0.32955745 89.30707 89.43854\n",
            "1850 0.32955414 89.30707 89.43854\n",
            "1900 0.329551 89.30707 89.43854\n",
            "1950 0.32954812 89.30707 89.43854\n",
            "2000 0.32954547 89.30707 89.43854\n",
            "2050 0.329543 89.30707 89.43854\n",
            "2100 0.3295407 89.30707 89.43854\n",
            "2150 0.32953852 89.30707 89.43854\n"
          ],
          "name": "stdout"
        }
      ]
    },
    {
      "cell_type": "markdown",
      "metadata": {
        "id": "jwegYi_w5c4F"
      },
      "source": [
        "Predictions of testing data using baseline model."
      ]
    },
    {
      "cell_type": "code",
      "metadata": {
        "colab": {
          "base_uri": "https://localhost:8080/",
          "height": 368
        },
        "id": "jslZ1FKqxofc",
        "outputId": "d549ecc8-99f6-40e2-f278-46f0d6746d24"
      },
      "source": [
        "plt.hist(logreg_pred(theta, X_test))"
      ],
      "execution_count": null,
      "outputs": [
        {
          "output_type": "execute_result",
          "data": {
            "text/plain": [
              "(array([3.8702e+04, 1.0000e+00, 3.0090e+03, 1.7520e+03, 0.0000e+00,\n",
              "        0.0000e+00, 0.0000e+00, 0.0000e+00, 1.3180e+03, 1.0450e+03]),\n",
              " array([0.07692171, 0.10258147, 0.12824124, 0.153901  , 0.17956077,\n",
              "        0.20522052, 0.23088029, 0.25654006, 0.2821998 , 0.30785957,\n",
              "        0.33351934], dtype=float32),\n",
              " <a list of 10 Patch objects>)"
            ]
          },
          "metadata": {
            "tags": []
          },
          "execution_count": 10
        },
        {
          "output_type": "display_data",
          "data": {
            "image/png": "[encoded data removed]",
            "text/plain": [
              "<Figure size 432x288 with 1 Axes>"
            ]
          },
          "metadata": {
            "tags": [],
            "needs_background": "light"
          }
        }
      ]
    },
    {
      "cell_type": "code",
      "metadata": {
        "colab": {
          "base_uri": "https://localhost:8080/"
        },
        "id": "-MovZ4_Qxq4K",
        "outputId": "b975c543-368f-4800-bb5c-b2874b401a93"
      },
      "source": [
        "ypred = logreg_pred(theta, X_test)\n",
        "p = pd.DataFrame(np.around(ypred, decimals=4))\n",
        "p['pred'] = p[0].apply(lambda x : 0 if x < 0.5 else 1)\n",
        "print(classification_report(y_test , p['pred'].values))"
      ],
      "execution_count": null,
      "outputs": [
        {
          "output_type": "stream",
          "text": [
            "              precision    recall  f1-score   support\n",
            "\n",
            "         0.0       0.89      1.00      0.94     40987\n",
            "         1.0       0.00      0.00      0.00      4840\n",
            "\n",
            "    accuracy                           0.89     45827\n",
            "   macro avg       0.45      0.50      0.47     45827\n",
            "weighted avg       0.80      0.89      0.84     45827\n",
            "\n"
          ],
          "name": "stdout"
        }
      ]
    },
    {
      "cell_type": "markdown",
      "metadata": {
        "id": "eeGFaKYdyxSW"
      },
      "source": [
        "# Variant 1: Adapt training to handle imbalanced data.\n",
        "We have already seen that the logistic regression simply predicts all observations to be 0. And this is because we have an imbalanced data."
      ]
    },
    {
      "cell_type": "code",
      "metadata": {
        "colab": {
          "base_uri": "https://localhost:8080/",
          "height": 397
        },
        "id": "1oARzcQZz5N-",
        "outputId": "e10d7486-219d-480c-dcb1-7326d93df059"
      },
      "source": [
        "data['is_goal'].value_counts().plot(kind='pie', figsize=(7, 6), rot=0, autopct='%1.0f%%')\n",
        "plt.title(\"Count of Is Goal Or Not\", y=1.02)\n",
        "plt.ylabel(\"\", labelpad=14)"
      ],
      "execution_count": null,
      "outputs": [
        {
          "output_type": "execute_result",
          "data": {
            "text/plain": [
              "Text(0, 0.5, '')"
            ]
          },
          "metadata": {
            "tags": []
          },
          "execution_count": 38
        },
        {
          "output_type": "display_data",
          "data": {
            "image/png": "[encoded data removed]",
            "text/plain": [
              "<Figure size 504x432 with 1 Axes>"
            ]
          },
          "metadata": {
            "tags": []
          }
        }
      ]
    },
    {
      "cell_type": "markdown",
      "metadata": {
        "id": "jJs20oDn1S2k"
      },
      "source": [
        "In the original dataset, only 11% of the data is goal, while 89% is not goal, which is quite imbalanced. And this kind of imbalanced data will lead to the accuracy paradox as what we have when using the baseline model.\n",
        "\n",
        "So in this variant, we have tried several ways to handle imbalanced data, including using resampling techniques, using rare event corrections and changing to algorithms that are robust to imbalanced data.\n",
        "\n",
        "And in this variant, we are going to variables \"side\", \"location\", \"bodypart\", \"assist_method\", \"situation\" to predict instead of only using \"bodypart\" and \"situation\", since variables like \"side\", \"location\", \"assist_method\" will also affect if a shot is a goal or not.\n",
        "\n",
        "## Subvariant 1: Resampling - Undersample majority class."
      ]
    },
    {
      "cell_type": "markdown",
      "metadata": {
        "id": "kUWx1lI7AuIf"
      },
      "source": [
        "We used undersampling here to remove some observations of the majority class, i.e., the class where is_goal = 0. So we randomly selected samples where is_goal equals 0 without replacement from the original training data, and \n",
        "\n",
        "the number of the samples where is_goal = 0 we selected here = (the number of observations where is_goal = 1 in training data) $\\times$ 4.\n",
        "\n",
        "So in this new training dataset,\n",
        "\n",
        "number of observations where is_goal is 0 : number of observations where is_goal is 1 = 4 : 1.\n",
        "\n"
      ]
    },
    {
      "cell_type": "code",
      "metadata": {
        "id": "pr7_4TB6ATIU"
      },
      "source": [
        "# add variables 'side', 'location', 'assist_method'\n",
        "data = pd.get_dummies(shots[[\"is_goal\", \"side\", 'location', \"bodypart\", \"assist_method\", \"situation\"]], columns=['side', 'location', 'bodypart', \"assist_method\", 'situation'])"
      ],
      "execution_count": null,
      "outputs": []
    },
    {
      "cell_type": "code",
      "metadata": {
        "id": "AzTo4ii9B31x"
      },
      "source": [
        "# train test split data like usual\n",
        "X = data.drop([\"is_goal\"],axis =1)\n",
        "y = data[\"is_goal\"]\n",
        "X_train_data, X_test_data, y_train_data, y_test_data = train_test_split(X, y, test_size=0.2, random_state=1)\n",
        "X_test = np.float32(np.array(X_test_data))\n",
        "y_test = np.float32(np.array(y_test_data))\n",
        "c_test = np.ones((X_test.shape[0], 1)) \n",
        "X_test = np.concatenate((c_test, X_test), axis=1)"
      ],
      "execution_count": null,
      "outputs": []
    },
    {
      "cell_type": "code",
      "metadata": {
        "id": "d0UjLluRB_3n"
      },
      "source": [
        "is_goal_train = y_train_data[y_train_data == 1]\n",
        "is_goal_train_df = is_goal_train.to_frame()\n",
        "not_goal_train = y_train_data[y_train_data == 0]\n",
        "not_goal_train_df = not_goal_train.to_frame()\n",
        "# randomly select samples where is_goal = 0 to achieve # is goal : # not goal = 1 : 4\n",
        "not_goal_train = not_goal_train.sample(len(is_goal_train)*4, replace=False)\n",
        "\n",
        "y_train_data = is_goal_train.append(not_goal_train)\n",
        "y_train_data = y_train_data.to_frame()"
      ],
      "execution_count": null,
      "outputs": []
    },
    {
      "cell_type": "code",
      "metadata": {
        "id": "GgAtvdpt5YH9"
      },
      "source": [
        "train_data = y_train_data.join(X_train_data)\n",
        "X_train_data = train_data.loc[:, train_data.columns != 'is_goal']\n",
        "y_train_data = train_data[['is_goal']]\n",
        "y_train_data = y_train_data['is_goal']"
      ],
      "execution_count": null,
      "outputs": []
    },
    {
      "cell_type": "code",
      "metadata": {
        "id": "Bmi7Lga97W3T"
      },
      "source": [
        "# dataframe to numpy array\n",
        "X_train = np.float32(np.array(X_train_data))\n",
        "c_train = np.ones((X_train.shape[0], 1))\n",
        "X_train = np.concatenate((c_train, X_train), axis=1)\n",
        "y_train = np.float32(np.array(y_train_data))"
      ],
      "execution_count": null,
      "outputs": []
    },
    {
      "cell_type": "markdown",
      "metadata": {
        "id": "rPVTXttG5l2n"
      },
      "source": [
        "Number of epoch, training loss, training accuracy, testing accuracy using variant 1 subvariant 1:"
      ]
    },
    {
      "cell_type": "code",
      "metadata": {
        "colab": {
          "base_uri": "https://localhost:8080/"
        },
        "id": "I6hm348j59Aj",
        "outputId": "4821ca46-ab81-4336-ca91-ad671557e4b3"
      },
      "source": [
        "# Simple logistic regression model(the same as baseline model).\n",
        "\n",
        "from jax.api import vmap   # Takes a function that operates on a single\n",
        "                           # example, and vectorizes it to work on a batch.\n",
        "\n",
        "epochs = 2200\n",
        "learning_rate = 0.08\n",
        "test_accuracy_lst2 = []\n",
        "\n",
        "theta = np.zeros(X_train.shape[1])       # initialize weights \n",
        "\n",
        "def sigmoid(z):\n",
        "  return 1.0 / (1.0 + np.exp(-z))\n",
        "\n",
        "def logreg_pred(params, X):\n",
        "  return sigmoid(np.dot(X, params))\n",
        "\n",
        "def log_bernoulli(y, p):\n",
        "  return np.mean(y * np.log(p) + (1.0 - y) * np.log(1.0 - p))\n",
        "\n",
        "# CE loss\n",
        "def single_loss(params, X, y):\n",
        "  return -log_bernoulli(y, logreg_pred(params, X))\n",
        "\n",
        "def batch_loss(params, X, y):\n",
        "  vectorized_logprob = vmap(single_loss, (None, 0, 0))  # Vectorize over X and y.\n",
        "  return np.mean(vectorized_logprob(params, X, y))\n",
        "\n",
        "def accuracy(params, x, y):\n",
        "  pred = logreg_pred(params, x)\n",
        "  return 100.0 * np.mean(np.round(pred) == y)\n",
        "\n",
        "print(grad(batch_loss)(theta, X_train, y_train))\n",
        "\n",
        "train_loss = [] # loss history \n",
        "\n",
        "for i in range(epochs):\n",
        "  theta = theta - learning_rate * grad(batch_loss)(theta, X_train, y_train)\n",
        "  loss_tr = batch_loss(theta, X_train, y_train)\n",
        "  if i % 50 == 0:\n",
        "    train_loss.append(loss_tr)\n",
        "    train_accuracy = accuracy(theta, X_train, y_train)\n",
        "    test_accuracy = accuracy(theta, X_test, y_test)\n",
        "    test_accuracy_lst2.append(test_accuracy)\n",
        "    print(i, loss_tr, np.mean(train_accuracy), np.mean(test_accuracy))"
      ],
      "execution_count": null,
      "outputs": [
        {
          "output_type": "stream",
          "text": [
            "[ 0.30000025  0.16434376  0.13565642  0.07129738  0.00280088  0.00364267\n",
            "  0.00352023  0.02998826  0.00260701  0.02888118  0.00241824 -0.00743839\n",
            " -0.00700985  0.16729254  0.00358655  0.00366308  0.00055099 -0.00580072\n",
            "  0.1565533   0.09849498  0.04495178  0.07145554  0.16247138  0.05354828\n",
            "  0.00984134  0.00268354  0.2737209   0.00124484  0.01882047  0.00621397]\n",
            "0 0.6686507 80.0 89.43854\n",
            "50 0.4742415 80.0 89.43854\n",
            "100 0.46250963 80.0 89.43854\n",
            "150 0.45436007 80.0 89.43854\n",
            "200 0.44780594 80.0 89.43854\n",
            "250 0.44239628 79.998985 89.43854\n",
            "300 0.437849 80.08367 89.47346\n",
            "350 0.43397 80.11734 89.48872\n",
            "400 0.43062037 81.220345 89.9557\n",
            "450 0.4276976 81.559105 90.02335\n",
            "500 0.42512405 81.73358 90.056076\n",
            "550 0.4228397 81.786644 90.034256\n",
            "600 0.42079768 81.80297 90.04299\n",
            "650 0.41896072 82.03867 90.145546\n",
            "700 0.41729885 82.26519 90.245926\n",
            "750 0.41578767 82.27947 90.245926\n",
            "800 0.41440722 82.311104 90.22629\n",
            "850 0.41314098 82.58559 90.287384\n",
            "900 0.41197512 82.71006 90.31575\n",
            "950 0.41089803 82.816185 90.36812\n",
            "1000 0.40989977 82.8172 90.35285\n",
            "1050 0.40897202 82.87026 90.33758\n",
            "1100 0.40810746 82.92536 90.32448\n",
            "1150 0.40729985 82.923325 90.32448\n",
            "1200 0.40654367 83.07025 90.34848\n",
            "1250 0.4058343 83.17025 90.37467\n",
            "1300 0.40516737 83.1733 90.35285\n",
            "1350 0.40453935 83.17229 90.35285\n",
            "1400 0.4039468 83.26718 90.39431\n",
            "1450 0.40338686 83.33554 90.42704\n",
            "1500 0.40285683 83.362076 90.41395\n",
            "1550 0.4023544 83.362076 90.41395\n",
            "1600 0.40187758 83.395744 90.40522\n",
            "1650 0.40142435 83.395744 90.40522\n",
            "1700 0.40099293 83.72634 90.566696\n",
            "1750 0.40058184 83.96102 90.69544\n",
            "1800 0.40018967 83.98347 90.688896\n",
            "1850 0.3998151 84.00082 90.68016\n",
            "1900 0.39945686 83.999794 90.68016\n",
            "1950 0.39911404 83.999794 90.68016\n",
            "2000 0.39878553 84.0151 90.65398\n",
            "2050 0.39847037 84.0151 90.65398\n",
            "2100 0.3981678 84.0151 90.65398\n",
            "2150 0.3978771 84.058975 90.60161\n"
          ],
          "name": "stdout"
        }
      ]
    },
    {
      "cell_type": "markdown",
      "metadata": {
        "id": "RQJR9KJ950V-"
      },
      "source": [
        "Predictions of testing data using variant 1 subvariant 1."
      ]
    },
    {
      "cell_type": "code",
      "metadata": {
        "colab": {
          "base_uri": "https://localhost:8080/",
          "height": 367
        },
        "id": "67Z4NhDXCOHt",
        "outputId": "9f59341c-5850-4dda-f302-4f7855aa9af8"
      },
      "source": [
        "plt.hist(logreg_pred(theta, X_test))"
      ],
      "execution_count": null,
      "outputs": [
        {
          "output_type": "execute_result",
          "data": {
            "text/plain": [
              "(array([18504., 10310.,  5744.,  7312.,   890.,  1119.,   617.,   625.,\n",
              "          636.,    70.]),\n",
              " array([0.02135868, 0.10370312, 0.18604755, 0.268392  , 0.3507364 ,\n",
              "        0.43308085, 0.51542526, 0.59776974, 0.68011415, 0.7624586 ,\n",
              "        0.84480304], dtype=float32),\n",
              " <a list of 10 Patch objects>)"
            ]
          },
          "metadata": {
            "tags": []
          },
          "execution_count": 45
        },
        {
          "output_type": "display_data",
          "data": {
            "image/png": "[encoded data removed]",
            "text/plain": [
              "<Figure size 432x288 with 1 Axes>"
            ]
          },
          "metadata": {
            "tags": [],
            "needs_background": "light"
          }
        }
      ]
    },
    {
      "cell_type": "code",
      "metadata": {
        "colab": {
          "base_uri": "https://localhost:8080/"
        },
        "id": "CEUX7qgcCeJW",
        "outputId": "ea61a9a7-cdb5-4694-ad46-742591f99d00"
      },
      "source": [
        "ypred = logreg_pred(theta, X_test)\n",
        "p = pd.DataFrame(np.around(ypred, decimals=4))\n",
        "p['pred'] = p[0].apply(lambda x : 0 if x < 0.5 else 1)\n",
        "print(classification_report(y_test , p['pred'].values))"
      ],
      "execution_count": null,
      "outputs": [
        {
          "output_type": "stream",
          "text": [
            "              precision    recall  f1-score   support\n",
            "\n",
            "         0.0       0.92      0.98      0.95     40987\n",
            "         1.0       0.62      0.28      0.38      4840\n",
            "\n",
            "    accuracy                           0.91     45827\n",
            "   macro avg       0.77      0.63      0.67     45827\n",
            "weighted avg       0.89      0.91      0.89     45827\n",
            "\n"
          ],
          "name": "stdout"
        }
      ]
    },
    {
      "cell_type": "markdown",
      "metadata": {
        "id": "fs0OydiiHwzB"
      },
      "source": [
        "By using undersampling, logistic regression does not predict all observations into a single class anymore, and it predicts some observations to have is_goal=1. And this variant has increased testing accuracy and $f_1$ score for both classes. And we will go back to this result in summary section."
      ]
    },
    {
      "cell_type": "markdown",
      "metadata": {
        "id": "Vl1PJ-k0FDtm"
      },
      "source": [
        "## Subvariant 2: Resampling - Oversample minority class."
      ]
    },
    {
      "cell_type": "markdown",
      "metadata": {
        "id": "g74QDVI_IoOX"
      },
      "source": [
        "Similarly to undersampling, oversampling adds more copies of observations from the minority class, i.e., the class where is_goal = 1. So we randomly selected samples where is_goal equals 1 with replacement from the original training data, and\n",
        "the number of the samples where is_goal = 1 we selected here = (the number of observations where is_goal = 0 in training data)  /  4.\n",
        "So in this new training dataset,\n",
        "number of observations where is_goal is 0 : number of observations where is_goal is 1 = 4 : 1."
      ]
    },
    {
      "cell_type": "code",
      "metadata": {
        "id": "s0hcD9YVGB1w"
      },
      "source": [
        "# train test split data like usual\n",
        "X = data.drop([\"is_goal\"],axis =1)\n",
        "y = data[\"is_goal\"]\n",
        "X_train_data, X_test_data, y_train_data, y_test_data = train_test_split(X, y, test_size=0.2, random_state=1)\n",
        "X_test = np.float32(np.array(X_test_data))\n",
        "y_test = np.float32(np.array(y_test_data))\n",
        "c_test = np.ones((X_test.shape[0], 1)) \n",
        "X_test = np.concatenate((c_test, X_test), axis=1)"
      ],
      "execution_count": null,
      "outputs": []
    },
    {
      "cell_type": "code",
      "metadata": {
        "id": "sW0HI9MRGGST"
      },
      "source": [
        "is_goal_train = y_train_data[y_train_data == 1]\n",
        "is_goal_train_df = is_goal_train.to_frame()\n",
        "not_goal_train = y_train_data[y_train_data == 0]\n",
        "not_goal_train_df = not_goal_train.to_frame()\n",
        "# randomly select samples where is_goal = 1 with replacement to achieve # is goal : # not goal = 1 : 4\n",
        "is_goal_train = is_goal_train.sample(int(len(not_goal_train)/4), replace=True)\n",
        "\n",
        "y_train_data = is_goal_train.append(not_goal_train)\n",
        "y_train_data = y_train_data.to_frame()"
      ],
      "execution_count": null,
      "outputs": []
    },
    {
      "cell_type": "code",
      "metadata": {
        "id": "sRo3Kb0pGNti"
      },
      "source": [
        "train_data = y_train_data.join(X_train_data)\n",
        "X_train_data = train_data.loc[:, train_data.columns != 'is_goal']\n",
        "y_train_data = train_data[['is_goal']]\n",
        "y_train_data = y_train_data['is_goal']"
      ],
      "execution_count": null,
      "outputs": []
    },
    {
      "cell_type": "code",
      "metadata": {
        "id": "LvABCxcXGRpt"
      },
      "source": [
        "# dataframe to numpy array\n",
        "X_train = np.float32(np.array(X_train_data))\n",
        "c_train = np.ones((X_train.shape[0], 1))\n",
        "X_train = np.concatenate((c_train, X_train), axis=1)\n",
        "y_train = np.float32(np.array(y_train_data))"
      ],
      "execution_count": null,
      "outputs": []
    },
    {
      "cell_type": "markdown",
      "metadata": {
        "id": "TLdWXVoA59am"
      },
      "source": [
        "Number of epoch, training loss, training accuracy, testing accuracy using variant 1 subvariant 2:"
      ]
    },
    {
      "cell_type": "code",
      "metadata": {
        "colab": {
          "base_uri": "https://localhost:8080/"
        },
        "id": "AK4r2FulGVPx",
        "outputId": "c33e1dca-59de-484f-aec1-a0d52bdcdd0f"
      },
      "source": [
        "# Simple logistic regression model(the same as baseline model).\n",
        "\n",
        "from jax.api import vmap   # Takes a function that operates on a single\n",
        "                           # example, and vectorizes it to work on a batch.\n",
        "\n",
        "epochs = 2200\n",
        "learning_rate = 0.08\n",
        "test_accuracy_lst3 = []\n",
        "iterations = []\n",
        "\n",
        "theta = np.zeros(X_train.shape[1])       # initialize weights \n",
        "\n",
        "def sigmoid(z):\n",
        "  return 1.0 / (1.0 + np.exp(-z))\n",
        "\n",
        "def logreg_pred(params, X):\n",
        "  return sigmoid(np.dot(X, params))\n",
        "\n",
        "def log_bernoulli(y, p):\n",
        "  return np.mean(y * np.log(p) + (1.0 - y) * np.log(1.0 - p))\n",
        "\n",
        "# CE loss\n",
        "def single_loss(params, X, y):\n",
        "  return -log_bernoulli(y, logreg_pred(params, X))\n",
        "\n",
        "def batch_loss(params, X, y):\n",
        "  vectorized_logprob = vmap(single_loss, (None, 0, 0))  # Vectorize over X and y.\n",
        "  return np.mean(vectorized_logprob(params, X, y))\n",
        "\n",
        "def accuracy(params, x, y):\n",
        "  pred = logreg_pred(params, x)\n",
        "  return 100.0 * np.mean(np.round(pred) == y)\n",
        "\n",
        "print(grad(batch_loss)(theta, X_train, y_train))\n",
        "\n",
        "train_loss = [] # loss history \n",
        "\n",
        "for i in range(epochs):\n",
        "  theta = theta - learning_rate * grad(batch_loss)(theta, X_train, y_train)\n",
        "  loss_tr = batch_loss(theta, X_train, y_train)\n",
        "  if i % 50 == 0:\n",
        "    train_loss.append(loss_tr)\n",
        "    train_accuracy = accuracy(theta, X_train, y_train)\n",
        "    test_accuracy = accuracy(theta, X_test, y_test)\n",
        "    test_accuracy_lst3.append(test_accuracy)\n",
        "    iterations.append(i)\n",
        "    print(i, loss_tr, np.mean(train_accuracy), np.mean(test_accuracy))\n"
      ],
      "execution_count": null,
      "outputs": [
        {
          "output_type": "stream",
          "text": [
            "[ 0.30000287  0.1633778   0.13662507  0.07056778  0.00272439  0.00373107\n",
            "  0.0036089   0.03021507  0.00262665  0.02832388  0.00258023 -0.00691482\n",
            " -0.00706387  0.16754626  0.00365532  0.00376772  0.00047891 -0.00584461\n",
            "  0.15675619  0.09866442  0.04458226  0.0719972   0.16185313  0.05338093\n",
            "  0.00985911  0.00291253  0.27445954  0.00059863  0.01881905  0.0061256 ]\n",
            "0 0.66863245 80.00029 89.43854\n",
            "50 0.47402453 80.00029 89.43854\n",
            "100 0.46223047 80.00029 89.43854\n",
            "150 0.4540596 80.00029 89.43854\n",
            "200 0.447508 80.00029 89.43854\n",
            "250 0.4421153 80.00029 89.43854\n",
            "300 0.43759328 80.043785 89.4669\n",
            "350 0.43374458 80.8159 89.73094\n",
            "400 0.43042803 81.24789 89.92951\n",
            "450 0.42753953 81.54208 90.001526\n",
            "500 0.4250003 81.73804 90.03644\n",
            "550 0.42274988 81.791794 90.03644\n",
            "600 0.4207407 82.041016 90.14773\n",
            "650 0.41893512 82.048836 90.145546\n",
            "700 0.41730306 82.25457 90.221924\n",
            "750 0.41581994 82.2878 90.21537\n",
            "800 0.41446584 82.33569 90.221924\n",
            "850 0.4132243 82.449554 90.30921\n",
            "900 0.4120814 82.613266 90.28302\n",
            "950 0.41102555 82.717354 90.34412\n",
            "1000 0.410047 82.80434 90.36158\n",
            "1050 0.40913764 82.81753 90.32885\n",
            "1100 0.40828997 82.87764 90.322296\n",
            "1150 0.40749812 82.89181 90.30266\n",
            "1200 0.40675655 83.05943 90.32448\n",
            "1250 0.4060604 83.06285 90.30921\n",
            "1300 0.405406 83.14494 90.31139\n",
            "1350 0.4047895 83.17769 90.31793\n",
            "1400 0.40420756 83.24855 90.35067\n",
            "1450 0.40365747 83.24855 90.35067\n",
            "1500 0.40313673 83.26028 90.357216\n",
            "1550 0.4026429 83.313545 90.39213\n",
            "1600 0.40217403 83.31452 90.39213\n",
            "1650 0.40172818 83.348724 90.387764\n",
            "1700 0.40130365 83.67027 90.54924\n",
            "1750 0.40089908 83.669785 90.54924\n",
            "1800 0.40051305 83.70155 90.53615\n",
            "1850 0.4001441 83.93123 90.667076\n",
            "1900 0.3997913 83.94736 90.69544\n",
            "1950 0.3994535 83.9669 90.688896\n",
            "2000 0.39912966 83.9669 90.688896\n",
            "2050 0.39881906 83.966415 90.688896\n",
            "2100 0.39852077 83.982056 90.66271\n",
            "2150 0.3982341 83.9972 90.65398\n"
          ],
          "name": "stdout"
        }
      ]
    },
    {
      "cell_type": "markdown",
      "metadata": {
        "id": "691pB6Z66wQY"
      },
      "source": [
        "Predictions of testing data using variant 1 subvariant 2."
      ]
    },
    {
      "cell_type": "code",
      "metadata": {
        "colab": {
          "base_uri": "https://localhost:8080/",
          "height": 367
        },
        "id": "WQJywMXNHdt6",
        "outputId": "9ff9ecda-2745-4c5d-9d52-838999f6db1f"
      },
      "source": [
        "plt.hist(logreg_pred(theta, X_test))"
      ],
      "execution_count": null,
      "outputs": [
        {
          "output_type": "execute_result",
          "data": {
            "text/plain": [
              "(array([18303., 10523.,  5745.,  7294.,   877.,  1159.,   574.,   646.,\n",
              "          640.,    66.]),\n",
              " array([0.02067448, 0.10308277, 0.18549106, 0.26789936, 0.35030764,\n",
              "        0.43271592, 0.5151242 , 0.5975325 , 0.6799408 , 0.76234907,\n",
              "        0.8447574 ], dtype=float32),\n",
              " <a list of 10 Patch objects>)"
            ]
          },
          "metadata": {
            "tags": []
          },
          "execution_count": 52
        },
        {
          "output_type": "display_data",
          "data": {
            "image/png": "[encoded data removed]",
            "text/plain": [
              "<Figure size 432x288 with 1 Axes>"
            ]
          },
          "metadata": {
            "tags": [],
            "needs_background": "light"
          }
        }
      ]
    },
    {
      "cell_type": "code",
      "metadata": {
        "colab": {
          "base_uri": "https://localhost:8080/"
        },
        "id": "XhuoBG_SHiN9",
        "outputId": "4b849673-7f24-40e8-a4d8-411bf2e1d822"
      },
      "source": [
        "ypred = logreg_pred(theta, X_test)\n",
        "p = pd.DataFrame(np.around(ypred, decimals=4))\n",
        "p['pred'] = p[0].apply(lambda x : 0 if x < 0.5 else 1)\n",
        "print(classification_report(y_test , p['pred'].values))"
      ],
      "execution_count": null,
      "outputs": [
        {
          "output_type": "stream",
          "text": [
            "              precision    recall  f1-score   support\n",
            "\n",
            "         0.0       0.92      0.98      0.95     40987\n",
            "         1.0       0.61      0.29      0.39      4840\n",
            "\n",
            "    accuracy                           0.91     45827\n",
            "   macro avg       0.76      0.63      0.67     45827\n",
            "weighted avg       0.89      0.91      0.89     45827\n",
            "\n"
          ],
          "name": "stdout"
        }
      ]
    },
    {
      "cell_type": "markdown",
      "metadata": {
        "id": "6M931OPeJx-3"
      },
      "source": [
        "The result we get using this variant is quite similar to the result when using undersampling, since what oversampling does here is almost the same as what undersampling does. And oversampling also increases testing accuracy and $f_1$ score for both classes."
      ]
    },
    {
      "cell_type": "markdown",
      "metadata": {
        "id": "RIVMqPSiMnNC"
      },
      "source": [
        "## Subvariant 3: Oversampling + Prior correction for bias term.\n",
        "\n",
        "Oversampling will not affect the slope estimates, however it will affect the intercept estimate, and any computation based on all parameters are incorrect. Gary King and Langche Zeng have proposed an adjustment of the intercept by computing the usual logistic regression MLE for intercept, and correcting the estimate based on prior information about proportion of ones in the population, and proportion of ones in our sample. \n",
        "\n",
        "$\\beta_0$ = $\\hat{\\beta_0}-ln[(\\frac{1-\\tau}{\\tau})(\\frac{\\bar{y}}{1-\\bar{y}})]$, where $\\tau$ is the fraction of 1s in the population, and $\\bar{y}$ is the fraction of 1s in our sample data (King, G., & Zeng, L. 2001)."
      ]
    },
    {
      "cell_type": "code",
      "metadata": {
        "id": "96pL65EoRsbP"
      },
      "source": [
        "# train test split data like usual\n",
        "X = data.drop([\"is_goal\"],axis =1)\n",
        "y = data[\"is_goal\"]\n",
        "X_train_data, X_test_data, y_train_data, y_test_data = train_test_split(X, y, test_size=0.2, random_state=1)\n",
        "X_test = np.float32(np.array(X_test_data))\n",
        "y_test = np.float32(np.array(y_test_data))\n",
        "c_test = np.ones((X_test.shape[0], 1)) \n",
        "X_test = np.concatenate((c_test, X_test), axis=1)"
      ],
      "execution_count": null,
      "outputs": []
    },
    {
      "cell_type": "code",
      "metadata": {
        "id": "YGlIfe0VqMc3"
      },
      "source": [
        "is_goal_train = y_train_data[y_train_data == 1]\n",
        "is_goal_train_df = is_goal_train.to_frame()\n",
        "not_goal_train = y_train_data[y_train_data == 0]\n",
        "not_goal_train_df = not_goal_train.to_frame()\n",
        "# randomly select samples where is_goal = 1 with replacement to achieve # is goal : # not goal = 1 : 4\n",
        "is_goal_train = is_goal_train.sample(int(len(not_goal_train)/4), replace=True)\n",
        "\n",
        "y_train_data = is_goal_train.append(not_goal_train)\n",
        "y_train_data = y_train_data.to_frame()"
      ],
      "execution_count": null,
      "outputs": []
    },
    {
      "cell_type": "code",
      "metadata": {
        "id": "Y6SvazGFqP1a"
      },
      "source": [
        "train_data = y_train_data.join(X_train_data)\n",
        "X_train_data = train_data.loc[:, train_data.columns != 'is_goal']\n",
        "y_train_data = train_data[['is_goal']]\n",
        "y_train_data = y_train_data['is_goal']"
      ],
      "execution_count": null,
      "outputs": []
    },
    {
      "cell_type": "code",
      "metadata": {
        "id": "IDsuVZnkqUTO"
      },
      "source": [
        "# dataframe to numpy array\n",
        "X_train = np.float32(np.array(X_train_data))\n",
        "c_train = np.ones((X_train.shape[0], 1))\n",
        "X_train = np.concatenate((c_train, X_train), axis=1)\n",
        "y_train = np.float32(np.array(y_train_data))"
      ],
      "execution_count": null,
      "outputs": []
    },
    {
      "cell_type": "markdown",
      "metadata": {
        "id": "pCdgyOZq6BXm"
      },
      "source": [
        "Number of epoch, training loss, training accuracy, testing accuracy using variant 1 subvariant 3:"
      ]
    },
    {
      "cell_type": "code",
      "metadata": {
        "colab": {
          "base_uri": "https://localhost:8080/"
        },
        "id": "CBv5BJC-Ryo7",
        "outputId": "0bea575c-f5f8-4b13-aa8e-92d241cea2ec"
      },
      "source": [
        "# Simple logistic regression model.\n",
        "import copy\n",
        "from jax.api import vmap   # Takes a function that operates on a single\n",
        "                           # example, and vectorizes it to work on a batch.\n",
        "\n",
        "# corrected bias = bias - correction_val\n",
        "# 0.10666637571737185 is fraction of 1s in the population\n",
        "# 0.2 is fraction of 1s in our sample data\n",
        "correction_val = np.log((0.8933336242826282/0.10666637571737185)*(0.2/0.8))\n",
        "epochs = 2200\n",
        "learning_rate = 0.2\n",
        "test_accuracy_lst4 = []\n",
        "\n",
        "theta = np.zeros(X_train.shape[1])       # initialize weights \n",
        "\n",
        "def sigmoid(z):\n",
        "  return 1.0 / (1.0 + np.exp(-z))\n",
        "\n",
        "# prediction using original bias\n",
        "def logreg_pred(params, X):\n",
        "  return sigmoid(np.dot(X, params))\n",
        "\n",
        "# prediction using corrected bias\n",
        "def logreg_pred_adj(params, X):\n",
        "  return sigmoid(np.dot(X, params)-correction_val)\n",
        "\n",
        "def log_bernoulli(y, p):\n",
        "  return np.mean(y * np.log(p) + (1.0 - y) * np.log(1.0 - p))\n",
        "\n",
        "# CE loss\n",
        "# single loss using original bias\n",
        "def single_loss(params, X, y):\n",
        "  return -log_bernoulli(y, logreg_pred(params, X))\n",
        "\n",
        "# single loss using corrected bias\n",
        "def single_loss_adj(params, X, y):\n",
        "  return -log_bernoulli(y, logreg_pred_adj(params, X))\n",
        "\n",
        "# batch loss using original bias\n",
        "def batch_loss(params, X, y):\n",
        "  vectorized_logprob = vmap(single_loss, (None, 0, 0))  # Vectorize over X and y.\n",
        "  return np.mean(vectorized_logprob(params, X, y))\n",
        "\n",
        "# batch loss using corrected bias\n",
        "def batch_loss_adj(params, X, y):\n",
        "  vectorized_logprob = vmap(single_loss_adj, (None, 0, 0))  # Vectorize over X and y.\n",
        "  return np.mean(vectorized_logprob(params, X, y))\n",
        "\n",
        "def accuracy(params, x, y):\n",
        "  pred = logreg_pred(params, x)\n",
        "  return 100.0 * np.mean(np.round(pred) == y)\n",
        "\n",
        "# accuracy using corrected bias\n",
        "def accuracy_adj(params, x, y):\n",
        "  pred = logreg_pred_adj(params, x)\n",
        "  return 100.0 * np.mean(np.round(pred) == y)\n",
        "\n",
        "print(grad(batch_loss)(theta, X_train, y_train))\n",
        "\n",
        "train_loss = [] # loss history \n",
        "\n",
        "for i in range(epochs):\n",
        "  theta = theta - learning_rate * grad(batch_loss)(theta, X_train, y_train)\n",
        "  loss_tr = batch_loss(theta, X_train, y_train)\n",
        "  train_loss.append(loss_tr)\n",
        "\n",
        "  if i % 50 == 0:\n",
        "    train_accuracy_adj = accuracy_adj(theta, X_train, y_train)\n",
        "    test_accuracy_adj = accuracy_adj(theta, X_test, y_test)\n",
        "    loss_tr_adj = batch_loss_adj(theta, X_train, y_train)\n",
        "    test_accuracy_lst4.append(test_accuracy_adj)\n",
        "    print(i, loss_tr_adj, np.mean(train_accuracy_adj), np.mean(test_accuracy_adj))\n",
        "\n",
        "# final corrected parameter estimates\n",
        "theta = list(theta)\n",
        "theta[0] -= correction_val\n",
        "theta = np.array(theta)"
      ],
      "execution_count": null,
      "outputs": [
        {
          "output_type": "stream",
          "text": [
            "[ 0.30000287  0.1641475   0.1358554   0.0709343   0.00269996  0.00384835\n",
            "  0.00359424  0.03001715  0.0026462   0.02843871  0.00230657 -0.00735952\n",
            " -0.00709319  0.1677515   0.00367487  0.00380437  0.00047646 -0.0057371\n",
            "  0.15693945  0.09849828  0.04456515  0.07189699  0.16249576  0.05303397\n",
            "  0.00965631  0.00291986  0.27391222  0.00069637  0.01901941  0.00637483]\n",
            "0 0.51452905 80.00029 89.43854\n",
            "50 0.49578005 80.00029 89.43854\n",
            "100 0.47911647 80.00029 89.43854\n",
            "150 0.46812543 80.00029 89.43854\n",
            "200 0.46039286 80.00029 89.43854\n",
            "250 0.45462102 79.9998 89.43854\n",
            "300 0.4501262 80.08533 89.47346\n",
            "350 0.44651338 80.10829 89.49091\n",
            "400 0.44353867 80.13712 89.49964\n",
            "450 0.44104236 80.17035 89.504005\n",
            "500 0.43891546 80.940025 89.77022\n",
            "550 0.43708026 81.38374 89.990616\n",
            "600 0.43547985 81.446785 90.00371\n",
            "650 0.43407133 81.706276 90.10409\n",
            "700 0.43282163 81.88806 90.167366\n",
            "750 0.43170482 81.89881 90.16955\n",
            "800 0.43070036 81.93009 90.18482\n",
            "850 0.42979157 81.93009 90.18482\n",
            "900 0.4289648 81.93009 90.18482\n",
            "950 0.42820886 82.1451 90.29611\n",
            "1000 0.42751482 82.449554 90.36812\n",
            "1050 0.42687482 82.54534 90.398674\n",
            "1100 0.42628226 82.6636 90.49251\n",
            "1150 0.4257317 82.73788 90.54924\n",
            "1200 0.42521855 82.82535 90.531784\n",
            "1250 0.42473885 82.95973 90.555786\n",
            "1300 0.42428896 83.11074 90.564514\n",
            "1350 0.42386615 83.11074 90.564514\n",
            "1400 0.42346773 83.1078 90.54924\n",
            "1450 0.42309135 83.1772 90.57979\n",
            "1500 0.42273512 83.21727 90.60597\n",
            "1550 0.42239732 83.21727 90.60597\n",
            "1600 0.4220765 83.21727 90.60597\n",
            "1650 0.42177117 83.555435 90.76745\n",
            "1700 0.42148012 83.79636 90.89838\n",
            "1750 0.42120242 83.79636 90.89838\n",
            "1800 0.42093697 83.79636 90.89838\n",
            "1850 0.420683 83.79636 90.89838\n",
            "1900 0.4204395 83.79636 90.89838\n",
            "1950 0.42020613 83.79636 90.89838\n",
            "2000 0.41998202 83.790985 90.90275\n",
            "2050 0.41976658 83.790985 90.90275\n",
            "2100 0.41955936 83.790985 90.90275\n",
            "2150 0.41935986 83.790985 90.90275\n"
          ],
          "name": "stdout"
        }
      ]
    },
    {
      "cell_type": "markdown",
      "metadata": {
        "id": "MeGcTfrO6y8r"
      },
      "source": [
        "Predictions of testing data using variant 1 subvariant 3."
      ]
    },
    {
      "cell_type": "code",
      "metadata": {
        "colab": {
          "base_uri": "https://localhost:8080/",
          "height": 371
        },
        "id": "DTNFpcCrUQTC",
        "outputId": "be2ef819-00f0-4c5f-d457-f00366cb0d77"
      },
      "source": [
        "plt.hist(logreg_pred(theta, X_test))"
      ],
      "execution_count": null,
      "outputs": [
        {
          "output_type": "execute_result",
          "data": {
            "text/plain": [
              "(array([28671.,  6848.,  6841.,   608.,   905.,   379.,   232.,   519.,\n",
              "          767.,    57.]),\n",
              " array([0.00914319, 0.08478262, 0.16042206, 0.23606148, 0.3117009 ,\n",
              "        0.38734034, 0.46297976, 0.5386192 , 0.61425865, 0.6898981 ,\n",
              "        0.7655375 ], dtype=float32),\n",
              " <a list of 10 Patch objects>)"
            ]
          },
          "metadata": {
            "tags": []
          },
          "execution_count": 59
        },
        {
          "output_type": "display_data",
          "data": {
            "image/png": "[encoded data removed]",
            "text/plain": [
              "<Figure size 432x288 with 1 Axes>"
            ]
          },
          "metadata": {
            "tags": [],
            "needs_background": "light"
          }
        }
      ]
    },
    {
      "cell_type": "code",
      "metadata": {
        "colab": {
          "base_uri": "https://localhost:8080/"
        },
        "id": "58uBAZ3AYd4o",
        "outputId": "155c8d3b-49d4-41ed-dcfb-312bed55cf81"
      },
      "source": [
        "ypred = logreg_pred(theta, X_test)\n",
        "p = pd.DataFrame(np.around(ypred, decimals=4))\n",
        "p['pred'] = p[0].apply(lambda x : 0 if x < 0.5 else 1)\n",
        "print(classification_report(y_test , p['pred'].values))"
      ],
      "execution_count": null,
      "outputs": [
        {
          "output_type": "stream",
          "text": [
            "              precision    recall  f1-score   support\n",
            "\n",
            "         0.0       0.92      0.99      0.95     40987\n",
            "         1.0       0.73      0.22      0.34      4840\n",
            "\n",
            "    accuracy                           0.91     45827\n",
            "   macro avg       0.82      0.61      0.65     45827\n",
            "weighted avg       0.90      0.91      0.89     45827\n",
            "\n"
          ],
          "name": "stdout"
        }
      ]
    },
    {
      "cell_type": "markdown",
      "metadata": {
        "id": "hkBFCPcwYnDj"
      },
      "source": [
        "Using oversampling and prior correction for bias term together, we can get 90.90711% testing accuracy, which is 1.64% higher than using the baseline logistic regression, and 0.24% higher than only using oversampling, without using prior correction. And the precision for is_goal=1 is 0.73, which is 12.31% higher than only using oversampling, and recall for is_goal=0 is 0.99, which is also higher than only using oversampling."
      ]
    },
    {
      "cell_type": "markdown",
      "metadata": {
        "id": "9HfP-ulraHUf"
      },
      "source": [
        "## Variant 1 Model Summary and Sanity Check"
      ]
    },
    {
      "cell_type": "markdown",
      "metadata": {
        "id": "js6EF_waaWp-"
      },
      "source": [
        "In variant 1, we are handling the imbalanced data. And the three methods we used here, including undersampling, oversampling, oversampling + prior correction all achieve a better testing accuracy, and a higher $f_1$ score for not goal class. And they all help avoid accuracy paradox, i.e., simply predict all classes to be not goal, so the precision and recall for is goal class also get higher. The summary plot and table for variant 1 are shown below."
      ]
    },
    {
      "cell_type": "code",
      "metadata": {
        "colab": {
          "base_uri": "https://localhost:8080/",
          "height": 281
        },
        "id": "O2KPGgf6Swrd",
        "outputId": "1c6ae005-c29a-4913-8340-e5b88f9d8209"
      },
      "source": [
        "plt.plot(iterations, test_accuracy_lst1, marker='', color='red', linewidth=2, label=\"Baseline Model\")\n",
        "plt.plot(iterations, test_accuracy_lst2, marker='', color='blue', linewidth=2, linestyle='dashed', label=\"Modified Model With Undersampling\")\n",
        "plt.plot(iterations, test_accuracy_lst3, marker='', color='green', linewidth=2, linestyle='dashed', label=\"Modified Model With Oversampling\")\n",
        "plt.plot(iterations, test_accuracy_lst4, marker='', color='orange', linewidth=2, linestyle='dashed', label=\"Modified Model With Oversampling + Prior Correction\")\n",
        "plt.title(\"Testing Accuracy of Baseline Model VS Variant\")\n",
        "plt.legend()\n",
        "plt.show()"
      ],
      "execution_count": null,
      "outputs": [
        {
          "output_type": "display_data",
          "data": {
            "image/png": "[encoded data removed]",
            "text/plain": [
              "<Figure size 432x288 with 1 Axes>"
            ]
          },
          "metadata": {
            "tags": [],
            "needs_background": "light"
          }
        }
      ]
    },
    {
      "cell_type": "markdown",
      "metadata": {
        "id": "17IYudZYQHHb"
      },
      "source": [
        "\\begin{array}{ccc}\n",
        "&TrainingLoss&TestingAccuracy&F1Score(NotGoal)&F1Score(IsGoal)&Precision(IsGoal)&Recall(IsGoal)\\\\\n",
        "BaselineModel& **0.3295** &89.4385&0.94&0&0&0\\\\\n",
        "Undersampling&0.3991&90.6802&0.95&**0.37**&0.65&**0.26**\\\\\n",
        "Oversampling&0.3983&90.6889&0.95&**0.37**&0.65&**0.26**\\\\\n",
        "Oversampling+PriorCorrection&0.4199&**90.9071**&0.95&0.34&**0.73**&0.22\n",
        "\\end{array}"
      ]
    },
    {
      "cell_type": "markdown",
      "metadata": {
        "id": "YGj4oPNGY4I-"
      },
      "source": [
        "From the plot and table above, oversampling+prior correction can achieve the highest testing accuracy, which is 90.9071%, and is 1.64% higher than using the baseline model. Also the precision of is_goal=1 is 0.73, which means that for all the shots that are predicted to be goals, 73% of them are predicted correctly. Precision is quite important for coaches to make decisions, since if they are using this decision-support tool to train the players, they will rely on the shots that are predicted to be goals to make strategy and train players. For example, if the decision-support tool predicts that a shot from long distance and using head will be a goal, then coach will train players to shot from long distance and use head. However, this prediction is incorrect, and should not be a goal. And this will become a big decision-making problem. That's why having a higher precision is quite important here, and our new variant has achieved a relatively good precision."
      ]
    },
    {
      "cell_type": "markdown",
      "metadata": {
        "id": "7D9nuVuOt8vI"
      },
      "source": [
        "And to do sanity check for this variant, we will take a look at the final prediction for shots from close range and shots from long range using our variant model."
      ]
    },
    {
      "cell_type": "code",
      "metadata": {
        "id": "hlCxd0Ff0knu"
      },
      "source": [
        "ypred = logreg_pred(theta, X_test)\n",
        "X_test_data['prediction'] = ypred\n",
        "X_test_data.columns =  ['home', 'away', 'center_of_box', 'difficult_angle_long_range', 'difficult_angle_left', 'difficult_angle_right', 'left_box', 'left_box_6', 'right_box', 'right_box_6', 'close_range', 'penalty_spot', 'outside_box', 'long_range', '35', '40', 'not_recorded', 'right_foot', 'left_foot', 'header', 'none', 'pass', 'cross', 'headed_pass', 'through_ball', 'open_play', 'set_piece', 'corner', 'free_kick', 'prediction']"
      ],
      "execution_count": null,
      "outputs": []
    },
    {
      "cell_type": "code",
      "metadata": {
        "id": "5tEHaGVS4UN6"
      },
      "source": [
        "X_test_data_close = X_test_data[X_test_data.close_range == 1]\n",
        "X_test_data_long = X_test_data[X_test_data.long_range == 1]"
      ],
      "execution_count": null,
      "outputs": []
    },
    {
      "cell_type": "code",
      "metadata": {
        "colab": {
          "base_uri": "https://localhost:8080/",
          "height": 281
        },
        "id": "ECgXJTNj5jRw",
        "outputId": "369e7f25-83aa-428c-aed5-bbc2f449ef5e"
      },
      "source": [
        "plt.title(\"Prediction of Close Range and Long Range Shots\")\n",
        "close = X_test_data_close['prediction']\n",
        "long_range = X_test_data_long['prediction']\n",
        "plt.boxplot([close, long_range])\n",
        "plt.xticks([1,2] , [\"close range\", \"long range\"])\n",
        "plt.show()"
      ],
      "execution_count": null,
      "outputs": [
        {
          "output_type": "display_data",
          "data": {
            "image/png": "[encoded data removed]",
            "text/plain": [
              "<Figure size 432x288 with 1 Axes>"
            ]
          },
          "metadata": {
            "tags": [],
            "needs_background": "light"
          }
        }
      ]
    },
    {
      "cell_type": "markdown",
      "metadata": {
        "id": "XGEWGn5U8IOG"
      },
      "source": [
        "From the boxplot above, it is very clear that the predictions for shots from close range are closer to 1, and predictions for shots from long range are closer to 0. And this makes sense, since shots from far away are less likely to succeed, and shots that are in close range are more likely to succeed."
      ]
    },
    {
      "cell_type": "markdown",
      "metadata": {
        "id": "g-In9-Pq8v_O"
      },
      "source": [
        "## Variant 1 Result and Limitation\n",
        "\n",
        "In variant 1, the main problem we are dealing with is to handle the imbalanced data, and avoid accuracy paradox. In addition, since we are using resampling to handle the imbalanced data, we also introduce prior correction to correct the bias term that is affected by using resampling. \n",
        "\n",
        "And we used undersampling the majority class by removing some observations of the majority class, i.e., the class where is_goal = 0. Similarly, we have also tried oversampling the minority class by adding more copies of observations from the minority class, i.e., the class where is_goal = 1. These two resampling methods help handle imbalanced data by randomly selecting samples to achieve number of observations where is_goal is 0 : number of observations where is_goal is 1 = 4 : 1.\n",
        "\n",
        "The oversampling+prior correction variant can achieve 90.9071% testing accuracy, which is 1.64% higher than using the baseline model as shown in Section 'Variant 1 Model Summary and Sanity Check'. In addition, its precision for is_goal=1 is 0.73, which is relatively good compared to 0 in baseline logistic regression model.\n",
        "\n",
        "And 27.52% of the soccer matches end in a draw, so using this variant to support decision-making such as planning strategy and instructing players, it leads to 0.45% more games won compared to using the baseline model.\n",
        "\n",
        "However, oversampling may cause some problems such as overfitting since it duplicates examples from minority class in the training dataset. So if more shots that are not goal occur, and fewer shots that are goal occur, in other words, if the data becomes more imbalanced, then the risk of getting overfitting will be higher."
      ]
    },
    {
      "cell_type": "markdown",
      "metadata": {
        "id": "Wf6_5S-8uiLJ"
      },
      "source": [
        "# Variant 2: Neural Networks\n",
        "\n",
        "The second moedel for our model staircase is to build a neural network. While simple models only calculate the distances to predict the classes, complex models such as neural network are more sophisticated and may perform well for the imbalanced data.\n",
        "\n",
        "For our neural networks, we use Pytorch to simplify the process. Our input is the number of the training data, and our output is a label 0 or 1 to indicate whether it's a goal or miss. Our training data consists of side, location, bodypart, assist_method, situation and fast_break. We have two hidden layers, 16 and 4, resulting from tuning the hyperparameters. Since we are not dealing with imagaes, it's hard to determine the size of the hidden layers as well as the convolution, which  adds each element of an image to its local neighbors, weighted by a kernel, or a small matrix, that helps us extract certain features from the input image. We also use the rectified-linear activation function and sigmoid function over x in our forward function. For our loss function, we use a binary cross entropy loss and an Adam optimizer with a learning rate 0.01. The number of epoch is 2500.\n",
        "\n"
      ]
    },
    {
      "cell_type": "code",
      "metadata": {
        "id": "TMXUky8Yuzdv"
      },
      "source": [
        "import pandas as pd\n",
        "import jax.numpy as np\n",
        "import matplotlib.pyplot as plt\n",
        "import seaborn as sns\n",
        "from sklearn.model_selection import train_test_split\n",
        "from sklearn.metrics import accuracy_score, classification_report, confusion_matrix\n",
        "\n",
        "\n",
        "import jax.numpy as jnp\n",
        "import numpy.random as npr\n",
        "from jax.api import jit, grad"
      ],
      "execution_count": null,
      "outputs": []
    },
    {
      "cell_type": "code",
      "metadata": {
        "id": "O--sCQIIu2M1"
      },
      "source": [
        "events = pd.read_csv('events.csv')\n",
        "info = pd.read_csv('ginf.csv')\n",
        "# considering data from particular event ( \" 1 = Attempt to shot\")\n",
        "shots = events[events.event_type==1]"
      ],
      "execution_count": null,
      "outputs": []
    },
    {
      "cell_type": "code",
      "metadata": {
        "id": "Bugmc7Ulu4Yo"
      },
      "source": [
        "data = pd.get_dummies(shots[[\"is_goal\", \"side\", 'location', \"bodypart\", \"assist_method\", \"situation\", \"fast_break\"]], \\\n",
        "                      columns=['side', 'location', 'bodypart', \"assist_method\", 'situation', 'fast_break'])"
      ],
      "execution_count": null,
      "outputs": []
    },
    {
      "cell_type": "code",
      "metadata": {
        "id": "lz-o1yMmvODd"
      },
      "source": [
        "# train test split and format data.\n",
        "import torch\n",
        "X = data.drop([\"is_goal\"],axis =1)\n",
        "y = data[\"is_goal\"]\n",
        "X_train, X_test, y_train, y_test = train_test_split(X, y, test_size=0.2, random_state=1)\n",
        "\n",
        "X_train = torch.from_numpy(X_train.to_numpy()).float()\n",
        "y_train = torch.squeeze(torch.from_numpy(y_train.to_numpy()).float())\n",
        "\n",
        "X_test = torch.from_numpy(X_test.to_numpy()).float()\n",
        "y_test = torch.squeeze(torch.from_numpy(y_test.to_numpy()).float())"
      ],
      "execution_count": null,
      "outputs": []
    },
    {
      "cell_type": "code",
      "metadata": {
        "id": "MRt80VeZvO_S"
      },
      "source": [
        "from torch import nn, optim\n",
        "import torch.nn.functional as F\n",
        "class Net(nn.Module):\n",
        "  def __init__(self, n_features):\n",
        "    super(Net, self).__init__()\n",
        "    self.fc1 = nn.Linear(n_features, 16)\n",
        "    self.fc2 = nn.Linear(16, 4)\n",
        "    self.fc3 = nn.Linear(4, 1)\n",
        "\n",
        "  def forward(self, x):\n",
        "    x = F.relu(self.fc1(x))\n",
        "    x = F.relu(self.fc2(x))\n",
        "    return torch.sigmoid(self.fc3(x))\n",
        "net = Net(X_train.shape[1])"
      ],
      "execution_count": null,
      "outputs": []
    },
    {
      "cell_type": "code",
      "metadata": {
        "id": "LV1p6NORvVL-"
      },
      "source": [
        "criterion = nn.BCELoss()\n",
        "optimizer = optim.Adam(net.parameters(), lr=0.01)\n",
        "if torch.cuda.is_available():\n",
        "    print(\"Using cuda\")\n",
        "    use_cuda = True\n",
        "    device = torch.device(\"cuda\")\n",
        "else:\n",
        "    device = \"cpu\"\n",
        "X_train = X_train.to(device)\n",
        "y_train = y_train.to(device)\n",
        "X_test = X_test.to(device)\n",
        "y_test = y_test.to(device)\n",
        "\n",
        "net = net.to(device)\n",
        "criterion = criterion.to(device)"
      ],
      "execution_count": null,
      "outputs": []
    },
    {
      "cell_type": "code",
      "metadata": {
        "id": "0O5LS0uGvYq1"
      },
      "source": [
        "def calculate_accuracy(y_true, y_pred):\n",
        "  predicted = y_pred.ge(.5).view(-1)\n",
        "  return (y_true == predicted).sum().float() / len(y_true)"
      ],
      "execution_count": null,
      "outputs": []
    },
    {
      "cell_type": "markdown",
      "metadata": {
        "id": "XCbfPi3y6R7l"
      },
      "source": [
        "Number of epoch, training loss, testing accuracy using variant 2:"
      ]
    },
    {
      "cell_type": "code",
      "metadata": {
        "id": "KkOzthVKvbm7",
        "colab": {
          "base_uri": "https://localhost:8080/"
        },
        "outputId": "0374be20-1961-48b7-eb56-a6a61213de9d"
      },
      "source": [
        "nn_train_loss = []\n",
        "nn_test_loss = []\n",
        "nn_train_acc = []\n",
        "nn_test_acc = []\n",
        "nn_iterations = []\n",
        "\n",
        "for epoch in range(2500):\n",
        "  y_pred = net(X_train)\n",
        "  y_pred = torch.squeeze(y_pred)\n",
        "\n",
        "  train_loss = criterion(y_pred, y_train)\n",
        "  train_acc = calculate_accuracy(y_train, y_pred)\n",
        "\n",
        "  y_test_pred = net(X_test)\n",
        "  y_test_pred = torch.squeeze(y_test_pred)\n",
        "  test_loss = criterion(y_test_pred, y_test)\n",
        "  test_acc = calculate_accuracy(y_test, y_test_pred)\n",
        "\n",
        "  if epoch % 50 == 0:\n",
        "    nn_iterations.append(epoch)\n",
        "    nn_train_loss.append(train_loss.item())\n",
        "    nn_train_acc.append(train_acc.item())\n",
        "    nn_test_loss.append(test_loss.item())\n",
        "    nn_test_acc.append(test_acc.item())\n",
        "    print(f'''epoch {epoch} \n",
        "    Train set - loss: {train_loss}, accuracy: {train_acc}\n",
        "    Test  set - loss: {test_loss}, accuracy: {test_acc}\n",
        "    ''')\n",
        "\n",
        "  optimizer.zero_grad()\n",
        "  train_loss.backward()\n",
        "  optimizer.step()"
      ],
      "execution_count": null,
      "outputs": [
        {
          "output_type": "stream",
          "text": [
            "epoch 0 \n",
            "    Train set - loss: 0.8644660115242004, accuracy: 0.10692932456731796\n",
            "    Test  set - loss: 0.8648345470428467, accuracy: 0.10561459511518478\n",
            "    \n",
            "epoch 50 \n",
            "    Train set - loss: 0.287494421005249, accuracy: 0.8930706977844238\n",
            "    Test  set - loss: 0.28471657633781433, accuracy: 0.8943853974342346\n",
            "    \n",
            "epoch 100 \n",
            "    Train set - loss: 0.26673242449760437, accuracy: 0.9059942960739136\n",
            "    Test  set - loss: 0.26368656754493713, accuracy: 0.9068016409873962\n",
            "    \n",
            "epoch 150 \n",
            "    Train set - loss: 0.26514506340026855, accuracy: 0.9088801145553589\n",
            "    Test  set - loss: 0.26208066940307617, accuracy: 0.9093111157417297\n",
            "    \n",
            "epoch 200 \n",
            "    Train set - loss: 0.26430007815361023, accuracy: 0.9101893901824951\n",
            "    Test  set - loss: 0.26131927967071533, accuracy: 0.9106858372688293\n",
            "    \n",
            "epoch 250 \n",
            "    Train set - loss: 0.263606995344162, accuracy: 0.9103421568870544\n",
            "    Test  set - loss: 0.26069843769073486, accuracy: 0.9107949733734131\n",
            "    \n",
            "epoch 300 \n",
            "    Train set - loss: 0.26301828026771545, accuracy: 0.9103748798370361\n",
            "    Test  set - loss: 0.26017239689826965, accuracy: 0.9107730984687805\n",
            "    \n",
            "epoch 350 \n",
            "    Train set - loss: 0.26249659061431885, accuracy: 0.9103530645370483\n",
            "    Test  set - loss: 0.2596947252750397, accuracy: 0.9108604192733765\n",
            "    \n",
            "epoch 400 \n",
            "    Train set - loss: 0.26206910610198975, accuracy: 0.9103530645370483\n",
            "    Test  set - loss: 0.2593104839324951, accuracy: 0.9108604192733765\n",
            "    \n",
            "epoch 450 \n",
            "    Train set - loss: 0.26177945733070374, accuracy: 0.9104076027870178\n",
            "    Test  set - loss: 0.25908029079437256, accuracy: 0.9107730984687805\n",
            "    \n",
            "epoch 500 \n",
            "    Train set - loss: 0.26152998208999634, accuracy: 0.9104076027870178\n",
            "    Test  set - loss: 0.2588808536529541, accuracy: 0.9107512831687927\n",
            "    \n",
            "epoch 550 \n",
            "    Train set - loss: 0.2613106966018677, accuracy: 0.9104021787643433\n",
            "    Test  set - loss: 0.25873419642448425, accuracy: 0.9107512831687927\n",
            "    \n",
            "epoch 600 \n",
            "    Train set - loss: 0.26111292839050293, accuracy: 0.9104076027870178\n",
            "    Test  set - loss: 0.2585940957069397, accuracy: 0.9107512831687927\n",
            "    \n",
            "epoch 650 \n",
            "    Train set - loss: 0.260935515165329, accuracy: 0.9104076027870178\n",
            "    Test  set - loss: 0.25846341252326965, accuracy: 0.9107294678688049\n",
            "    \n",
            "epoch 700 \n",
            "    Train set - loss: 0.2607730031013489, accuracy: 0.9104130864143372\n",
            "    Test  set - loss: 0.25833654403686523, accuracy: 0.9107294678688049\n",
            "    \n",
            "epoch 750 \n",
            "    Train set - loss: 0.2606198489665985, accuracy: 0.9104130864143372\n",
            "    Test  set - loss: 0.2582103908061981, accuracy: 0.9107294678688049\n",
            "    \n",
            "epoch 800 \n",
            "    Train set - loss: 0.26047053933143616, accuracy: 0.9104185104370117\n",
            "    Test  set - loss: 0.25810036063194275, accuracy: 0.9107512831687927\n",
            "    \n",
            "epoch 850 \n",
            "    Train set - loss: 0.26033639907836914, accuracy: 0.9104130864143372\n",
            "    Test  set - loss: 0.25801485776901245, accuracy: 0.9107294678688049\n",
            "    \n",
            "epoch 900 \n",
            "    Train set - loss: 0.26021575927734375, accuracy: 0.9104130864143372\n",
            "    Test  set - loss: 0.25793009996414185, accuracy: 0.9107294678688049\n",
            "    \n",
            "epoch 950 \n",
            "    Train set - loss: 0.26010510325431824, accuracy: 0.9104130864143372\n",
            "    Test  set - loss: 0.25784558057785034, accuracy: 0.9107294678688049\n",
            "    \n",
            "epoch 1000 \n",
            "    Train set - loss: 0.26000189781188965, accuracy: 0.910434901714325\n",
            "    Test  set - loss: 0.25776129961013794, accuracy: 0.9107949733734131\n",
            "    \n",
            "epoch 1050 \n",
            "    Train set - loss: 0.2599065601825714, accuracy: 0.9105548858642578\n",
            "    Test  set - loss: 0.257679283618927, accuracy: 0.9108822345733643\n",
            "    \n",
            "epoch 1100 \n",
            "    Train set - loss: 0.2598131597042084, accuracy: 0.9105548858642578\n",
            "    Test  set - loss: 0.25760865211486816, accuracy: 0.9108604192733765\n",
            "    \n",
            "epoch 1150 \n",
            "    Train set - loss: 0.25972282886505127, accuracy: 0.9105385541915894\n",
            "    Test  set - loss: 0.2575533390045166, accuracy: 0.9108822345733643\n",
            "    \n",
            "epoch 1200 \n",
            "    Train set - loss: 0.25963449478149414, accuracy: 0.9105439782142639\n",
            "    Test  set - loss: 0.25747647881507874, accuracy: 0.9108822345733643\n",
            "    \n",
            "epoch 1250 \n",
            "    Train set - loss: 0.25954633951187134, accuracy: 0.9105548858642578\n",
            "    Test  set - loss: 0.25741955637931824, accuracy: 0.9108822345733643\n",
            "    \n",
            "epoch 1300 \n",
            "    Train set - loss: 0.2594752311706543, accuracy: 0.9105385541915894\n",
            "    Test  set - loss: 0.25736191868782043, accuracy: 0.9108822345733643\n",
            "    \n",
            "epoch 1350 \n",
            "    Train set - loss: 0.25940534472465515, accuracy: 0.910571277141571\n",
            "    Test  set - loss: 0.2573074698448181, accuracy: 0.9107730984687805\n",
            "    \n",
            "epoch 1400 \n",
            "    Train set - loss: 0.25934574007987976, accuracy: 0.910571277141571\n",
            "    Test  set - loss: 0.257267564535141, accuracy: 0.9107949733734131\n",
            "    \n",
            "epoch 1450 \n",
            "    Train set - loss: 0.2592931389808655, accuracy: 0.9105548858642578\n",
            "    Test  set - loss: 0.2572230398654938, accuracy: 0.9108167886734009\n",
            "    \n",
            "epoch 1500 \n",
            "    Train set - loss: 0.25924307107925415, accuracy: 0.9105385541915894\n",
            "    Test  set - loss: 0.2571963667869568, accuracy: 0.9108167886734009\n",
            "    \n",
            "epoch 1550 \n",
            "    Train set - loss: 0.2591937482357025, accuracy: 0.91053307056427\n",
            "    Test  set - loss: 0.2571538984775543, accuracy: 0.9107949733734131\n",
            "    \n",
            "epoch 1600 \n",
            "    Train set - loss: 0.2591495215892792, accuracy: 0.9105221629142761\n",
            "    Test  set - loss: 0.25712159276008606, accuracy: 0.9107730984687805\n",
            "    \n",
            "epoch 1650 \n",
            "    Train set - loss: 0.2591056227684021, accuracy: 0.9105221629142761\n",
            "    Test  set - loss: 0.25708478689193726, accuracy: 0.9107730984687805\n",
            "    \n",
            "epoch 1700 \n",
            "    Train set - loss: 0.25906285643577576, accuracy: 0.9105221629142761\n",
            "    Test  set - loss: 0.2570442855358124, accuracy: 0.9107730984687805\n",
            "    \n",
            "epoch 1750 \n",
            "    Train set - loss: 0.25901755690574646, accuracy: 0.9105167388916016\n",
            "    Test  set - loss: 0.2569862902164459, accuracy: 0.9107949733734131\n",
            "    \n",
            "epoch 1800 \n",
            "    Train set - loss: 0.2589762806892395, accuracy: 0.9105221629142761\n",
            "    Test  set - loss: 0.2569381594657898, accuracy: 0.9107730984687805\n",
            "    \n",
            "epoch 1850 \n",
            "    Train set - loss: 0.2589346170425415, accuracy: 0.9105221629142761\n",
            "    Test  set - loss: 0.25689783692359924, accuracy: 0.9107730984687805\n",
            "    \n",
            "epoch 1900 \n",
            "    Train set - loss: 0.25889673829078674, accuracy: 0.9105221629142761\n",
            "    Test  set - loss: 0.25686103105545044, accuracy: 0.9107730984687805\n",
            "    \n",
            "epoch 1950 \n",
            "    Train set - loss: 0.25886058807373047, accuracy: 0.9105221629142761\n",
            "    Test  set - loss: 0.25683102011680603, accuracy: 0.9107730984687805\n",
            "    \n",
            "epoch 2000 \n",
            "    Train set - loss: 0.25882625579833984, accuracy: 0.9105221629142761\n",
            "    Test  set - loss: 0.2567976117134094, accuracy: 0.9107730984687805\n",
            "    \n",
            "epoch 2050 \n",
            "    Train set - loss: 0.2587929666042328, accuracy: 0.9105276465415955\n",
            "    Test  set - loss: 0.2567676603794098, accuracy: 0.9107730984687805\n",
            "    \n",
            "epoch 2100 \n",
            "    Train set - loss: 0.25876113772392273, accuracy: 0.9105221629142761\n",
            "    Test  set - loss: 0.25673907995224, accuracy: 0.9107949733734131\n",
            "    \n",
            "epoch 2150 \n",
            "    Train set - loss: 0.2587301433086395, accuracy: 0.9105276465415955\n",
            "    Test  set - loss: 0.256712406873703, accuracy: 0.9107730984687805\n",
            "    \n",
            "epoch 2200 \n",
            "    Train set - loss: 0.2587002217769623, accuracy: 0.9105276465415955\n",
            "    Test  set - loss: 0.25669199228286743, accuracy: 0.9107730984687805\n",
            "    \n",
            "epoch 2250 \n",
            "    Train set - loss: 0.25867101550102234, accuracy: 0.9105276465415955\n",
            "    Test  set - loss: 0.256661593914032, accuracy: 0.9107730984687805\n",
            "    \n",
            "epoch 2300 \n",
            "    Train set - loss: 0.2586424648761749, accuracy: 0.9105276465415955\n",
            "    Test  set - loss: 0.25664156675338745, accuracy: 0.9107730984687805\n",
            "    \n",
            "epoch 2350 \n",
            "    Train set - loss: 0.2586153745651245, accuracy: 0.9105276465415955\n",
            "    Test  set - loss: 0.2566141188144684, accuracy: 0.9107730984687805\n",
            "    \n",
            "epoch 2400 \n",
            "    Train set - loss: 0.2585885524749756, accuracy: 0.9105276465415955\n",
            "    Test  set - loss: 0.2565942108631134, accuracy: 0.9107730984687805\n",
            "    \n",
            "epoch 2450 \n",
            "    Train set - loss: 0.2585621774196625, accuracy: 0.9105276465415955\n",
            "    Test  set - loss: 0.25656771659851074, accuracy: 0.9107730984687805\n",
            "    \n"
          ],
          "name": "stdout"
        }
      ]
    },
    {
      "cell_type": "markdown",
      "metadata": {
        "id": "Rpx67UFz4B4y"
      },
      "source": [
        "## Model Summary and Sanity Check"
      ]
    },
    {
      "cell_type": "code",
      "metadata": {
        "id": "KG-i9R-h_iYT",
        "colab": {
          "base_uri": "https://localhost:8080/",
          "height": 295
        },
        "outputId": "ef6ef97b-492d-4254-b4dd-fbb3eb518acb"
      },
      "source": [
        "plt.figure()\n",
        "plt.plot(nn_iterations, nn_train_loss, marker='', color='red', linewidth=1, label=\"Training\")\n",
        "plt.plot(nn_iterations, nn_test_loss, marker='', color='blue', linewidth=1, label=\"Test\")\n",
        "plt.legend()\n",
        "plt.title('BCE Loss for Training and Test Data')\n",
        "plt.xlabel('epoch')\n",
        "plt.ylabel('Loss')\n",
        "plt.show()"
      ],
      "execution_count": null,
      "outputs": [
        {
          "output_type": "display_data",
          "data": {
            "image/png": "[encoded data removed]",
            "text/plain": [
              "<Figure size 432x288 with 1 Axes>"
            ]
          },
          "metadata": {
            "tags": [],
            "needs_background": "light"
          }
        }
      ]
    },
    {
      "cell_type": "markdown",
      "metadata": {
        "id": "B_5BTzWs8s4R"
      },
      "source": [
        "When we look at the training curve, the BCE loss converges to around 0.25 as epoch number increases. Since we don't see the curev oscillating as epoch number increases, there seems not to have signs of overfitting. Thus, we are happy with our neural networks and we want to verify its performance in terms of accuracy to furthur justify the validity of the model."
      ]
    },
    {
      "cell_type": "code",
      "metadata": {
        "colab": {
          "base_uri": "https://localhost:8080/",
          "height": 295
        },
        "id": "gjIucHRFwszA",
        "outputId": "df454209-70e3-4109-b8be-6b01e56b01fd"
      },
      "source": [
        "plt.figure()\n",
        "plt.plot(nn_iterations, nn_train_acc, marker='', color='red', linewidth=1, label=\"Training\")\n",
        "plt.plot(nn_iterations, nn_test_acc, marker='', color='blue', linewidth=1, label=\"Test\")\n",
        "plt.legend()\n",
        "plt.title('Accuracy for Training and Test Data')\n",
        "plt.xlabel('epoch')\n",
        "plt.ylabel('Accuracy')\n",
        "plt.show()"
      ],
      "execution_count": null,
      "outputs": [
        {
          "output_type": "display_data",
          "data": {
            "image/png": "[encoded data removed]",
            "text/plain": [
              "<Figure size 432x288 with 1 Axes>"
            ]
          },
          "metadata": {
            "tags": [],
            "needs_background": "light"
          }
        }
      ]
    },
    {
      "cell_type": "markdown",
      "metadata": {
        "id": "DUhCLb_C-Dnp"
      },
      "source": [
        "For the training and test accuracy, the result is definitely reasonable. Since our baseline logistic regression model always predict 0s due to the imbalance of the data, it's reasonable to see that in the first 100 epoches our neural network predicts the same result. However, the neural network is able to catch the deep information of our data and starts to predict 1s, increasing both traing and test accuracy to slightly above 90%. The accuracy also converges, so there is no obvious indication of overfitting or underfitting. We are happy with the result so far. "
      ]
    },
    {
      "cell_type": "markdown",
      "metadata": {
        "id": "1165IN9u8lRJ"
      },
      "source": [
        "## Reault and Limitations"
      ]
    },
    {
      "cell_type": "markdown",
      "metadata": {
        "id": "MeDBhxGW_YF2"
      },
      "source": [
        "Overall, our neural network performs better than the baseline logistic regression model. After both finish training, the loss decreases from 0.3295 to 0.2560. The training accuracy increases from 0.8931 to 0.9107 and the test accuracy increases from 0.8944 to 0.9108. The test accuracy increases by 1.64%."
      ]
    },
    {
      "cell_type": "code",
      "metadata": {
        "colab": {
          "base_uri": "https://localhost:8080/"
        },
        "id": "Xae8syXJ2UAO",
        "outputId": "6770de60-ad43-4904-b07d-dcc3172109a5"
      },
      "source": [
        "y_pred = y_test_pred.cpu().detach().numpy()\n",
        "y_test = y_test.cpu().detach().numpy()\n",
        "p = pd.DataFrame(np.around(y_pred, decimals=4))\n",
        "p['pred'] = p[0].apply(lambda x : 0 if x < 0.5 else 1)\n",
        "print(classification_report(y_test , p['pred'].values))"
      ],
      "execution_count": null,
      "outputs": [
        {
          "output_type": "stream",
          "text": [
            "              precision    recall  f1-score   support\n",
            "\n",
            "         0.0       0.92      0.99      0.95     40987\n",
            "         1.0       0.71      0.26      0.38      4840\n",
            "\n",
            "    accuracy                           0.91     45827\n",
            "   macro avg       0.81      0.62      0.67     45827\n",
            "weighted avg       0.90      0.91      0.89     45827\n",
            "\n"
          ],
          "name": "stdout"
        }
      ]
    },
    {
      "cell_type": "markdown",
      "metadata": {
        "id": "vTesFAfDBq-r"
      },
      "source": [
        "When we look at the classification report, we see that the precision for class-0 (miss) increases from 0.89 to 0.92. The precision for class-1 (goal) increases from 0 to 0.71, which is a dramatical increase and the model finally has the ability to predict 1s. The recall for class-1 increases from 0 to 0.26, meaning that the model is finally able to find positive instances. The F1 score for class-1 also increases from 0 to 0.38."
      ]
    },
    {
      "cell_type": "code",
      "metadata": {
        "colab": {
          "base_uri": "https://localhost:8080/"
        },
        "id": "LV78IdgM3Hz1",
        "outputId": "db433954-9d3a-4ace-c2c1-91c2f83c0ea2"
      },
      "source": [
        "from sklearn.metrics import roc_auc_score\n",
        "print('Our neural network obtains an ROC-AUC of {}%'.format(round(roc_auc_score(y_test, y_pred)*100),2))\n"
      ],
      "execution_count": null,
      "outputs": [
        {
          "output_type": "stream",
          "text": [
            "Our neural network obtains an ROC-AUC of 82%\n"
          ],
          "name": "stdout"
        }
      ]
    },
    {
      "cell_type": "code",
      "metadata": {
        "colab": {
          "base_uri": "https://localhost:8080/",
          "height": 295
        },
        "id": "3KCoBHJzEXW3",
        "outputId": "9accf3a5-d5b6-4eec-e2f7-ff12adefb38b"
      },
      "source": [
        "from sklearn import metrics\n",
        "\n",
        "fpr, tpr, thresholds = metrics.roc_curve(y_test, y_pred, pos_label=1)\n",
        "roc_auc = metrics.auc(fpr, tpr)\n",
        "\n",
        "plt.figure()\n",
        "lw = 2\n",
        "plt.plot(fpr, tpr, color='darkorange',\n",
        "         lw=lw, label='ROC curve (area = %0.2f)' % roc_auc)\n",
        "plt.plot([0, 1], [0, 1], color='navy', lw=lw, linestyle='--')\n",
        "plt.xlim([0.0, 1.0])\n",
        "plt.ylim([0.0, 1.05])\n",
        "plt.xlabel('False Positive Rate')\n",
        "plt.ylabel('True Positive Rate')\n",
        "plt.title('ROC')\n",
        "plt.legend(loc=\"lower right\")\n",
        "plt.show()"
      ],
      "execution_count": null,
      "outputs": [
        {
          "output_type": "display_data",
          "data": {
            "image/png": "[encoded data removed]",
            "text/plain": [
              "<Figure size 432x288 with 1 Axes>"
            ]
          },
          "metadata": {
            "tags": [],
            "needs_background": "light"
          }
        }
      ]
    },
    {
      "cell_type": "code",
      "metadata": {
        "colab": {
          "base_uri": "https://localhost:8080/"
        },
        "id": "2za7yskxFs7_",
        "outputId": "7ccdbc64-20ac-47f5-96ad-bd1a373174c2"
      },
      "source": [
        "print('Confusion Matrix:\\n')\n",
        "print(confusion_matrix(y_test, y_pred.round()))\n"
      ],
      "execution_count": null,
      "outputs": [
        {
          "output_type": "stream",
          "text": [
            "Confusion Matrix:\n",
            "\n",
            "[[40467   520]\n",
            " [ 3569  1271]]\n"
          ],
          "name": "stdout"
        }
      ]
    },
    {
      "cell_type": "markdown",
      "metadata": {
        "id": "hyQ-4rPLDscF"
      },
      "source": [
        "Furthermore, we obtain a pretty good ROC-AUC metric of 82%. This looks very impressing. We also look at the confusion matrix. From all the shots that were missed, our model correctly predicts 40473 as no-goals, and makes a mistake in 3527 cases in which they should be goals. From the other column, we see that it correctly predicts 514 goals, but fails to predict 1268 as goals. This sill reflects that our model is not good enough to predict actual goals. In fact, our model achieves such high accuracy because even predicting all 0s would give an accuracy of 89%."
      ]
    },
    {
      "cell_type": "markdown",
      "metadata": {
        "id": "SCpBuLPUvmu3"
      },
      "source": [
        "## Subvaraint: Use of Different Classifiers\n",
        "\n",
        "In addition of the neural netwrok, I tried to implement multiple classifiers to see whether the result would be better. I used five built-in classifiers from scikit-learn, and they are decision tree, random forest, ada boost, gradient boosting, and KNN."
      ]
    },
    {
      "cell_type": "code",
      "metadata": {
        "id": "rSl85QyRHkuS"
      },
      "source": [
        "X = shots[['bodypart', 'location', 'situation', 'assist_method', 'fast_break']]\n",
        "y = shots['is_goal']"
      ],
      "execution_count": null,
      "outputs": []
    },
    {
      "cell_type": "code",
      "metadata": {
        "id": "x2YXLiNPH_4E"
      },
      "source": [
        "X_train, X_test, y_train, y_test = train_test_split(X, y, train_size = 0.8, stratify = y, random_state=23)"
      ],
      "execution_count": null,
      "outputs": []
    },
    {
      "cell_type": "code",
      "metadata": {
        "colab": {
          "base_uri": "https://localhost:8080/"
        },
        "id": "oBfqS81GIEsY",
        "outputId": "fa53329e-273a-42bc-e806-1b1dcd3d0667"
      },
      "source": [
        "from sklearn.metrics import accuracy_score, log_loss\n",
        "from sklearn.neighbors import KNeighborsClassifier\n",
        "from sklearn.svm import SVC, LinearSVC, NuSVC\n",
        "from sklearn.tree import DecisionTreeClassifier\n",
        "from sklearn.ensemble import RandomForestClassifier, AdaBoostClassifier, GradientBoostingClassifier\n",
        "from sklearn.naive_bayes import GaussianNB\n",
        "from sklearn.discriminant_analysis import LinearDiscriminantAnalysis\n",
        "from sklearn.discriminant_analysis import QuadraticDiscriminantAnalysis\n",
        "\n",
        "classifiers = [\n",
        "    DecisionTreeClassifier(),\n",
        "    RandomForestClassifier(),\n",
        "    AdaBoostClassifier(),\n",
        "    GradientBoostingClassifier(),\n",
        "    KNeighborsClassifier()]\n",
        "\n",
        "\n",
        "for clf in classifiers:\n",
        "    clf.fit(X_train, y_train)\n",
        "    name = clf.__class__.__name__\n",
        "    \n",
        "    train_predictions = clf.predict(X_test)\n",
        "    acc = accuracy_score(y_test, train_predictions)\n",
        "    print(name)\n",
        "    print(\"Accuracy: {:.4%}\".format(acc))"
      ],
      "execution_count": null,
      "outputs": [
        {
          "output_type": "stream",
          "text": [
            "DecisionTreeClassifier\n",
            "Accuracy: 91.0729%\n",
            "RandomForestClassifier\n",
            "Accuracy: 91.0839%\n",
            "AdaBoostClassifier\n",
            "Accuracy: 90.8897%\n",
            "GradientBoostingClassifier\n",
            "Accuracy: 91.0555%\n",
            "KNeighborsClassifier\n",
            "Accuracy: 90.5776%\n"
          ],
          "name": "stdout"
        }
      ]
    },
    {
      "cell_type": "markdown",
      "metadata": {
        "id": "HPdOBriUIIBS"
      },
      "source": [
        "We see that the Gradient Boosting Classifier achieves the best result, and it has a test accuracy of 91.06%. I want to discover it further."
      ]
    },
    {
      "cell_type": "code",
      "metadata": {
        "colab": {
          "base_uri": "https://localhost:8080/"
        },
        "id": "cvHFeH4WIHAj",
        "outputId": "8586657b-2f74-4131-90c4-d558e51a7738"
      },
      "source": [
        "gbc_model = GradientBoostingClassifier()\n",
        "gbc_model.fit(X_train, y_train)"
      ],
      "execution_count": null,
      "outputs": [
        {
          "output_type": "execute_result",
          "data": {
            "text/plain": [
              "GradientBoostingClassifier(ccp_alpha=0.0, criterion='friedman_mse', init=None,\n",
              "                           learning_rate=0.1, loss='deviance', max_depth=3,\n",
              "                           max_features=None, max_leaf_nodes=None,\n",
              "                           min_impurity_decrease=0.0, min_impurity_split=None,\n",
              "                           min_samples_leaf=1, min_samples_split=2,\n",
              "                           min_weight_fraction_leaf=0.0, n_estimators=100,\n",
              "                           n_iter_no_change=None, presort='deprecated',\n",
              "                           random_state=None, subsample=1.0, tol=0.0001,\n",
              "                           validation_fraction=0.1, verbose=0,\n",
              "                           warm_start=False)"
            ]
          },
          "metadata": {
            "tags": []
          },
          "execution_count": 83
        }
      ]
    },
    {
      "cell_type": "code",
      "metadata": {
        "colab": {
          "base_uri": "https://localhost:8080/"
        },
        "id": "P727gLzsI_gj",
        "outputId": "79b9d5c1-b068-4b0a-e6d3-ac50ac9a3ef9"
      },
      "source": [
        "print(classification_report(y_test,gbc_model.predict(X_test)))"
      ],
      "execution_count": null,
      "outputs": [
        {
          "output_type": "stream",
          "text": [
            "              precision    recall  f1-score   support\n",
            "\n",
            "           0       0.92      0.99      0.95     40939\n",
            "           1       0.72      0.26      0.38      4888\n",
            "\n",
            "    accuracy                           0.91     45827\n",
            "   macro avg       0.82      0.62      0.67     45827\n",
            "weighted avg       0.90      0.91      0.89     45827\n",
            "\n"
          ],
          "name": "stdout"
        }
      ]
    },
    {
      "cell_type": "code",
      "metadata": {
        "colab": {
          "base_uri": "https://localhost:8080/"
        },
        "id": "8rh5iBI2JH8O",
        "outputId": "248a6d1a-d34f-49c4-bd32-7e3cb752b52b"
      },
      "source": [
        "print('Our Gradient Boosting Classifier obtains an ROC-AUC of {}%'.format(round(roc_auc_score(y_test, gbc_model.\n",
        "                                                                            predict_proba(X_test)[:, 1])*100),2))"
      ],
      "execution_count": null,
      "outputs": [
        {
          "output_type": "stream",
          "text": [
            "Our Gradient Boosting Classifier obtains an ROC-AUC of 82%\n"
          ],
          "name": "stdout"
        }
      ]
    },
    {
      "cell_type": "markdown",
      "metadata": {
        "id": "BJjeZ9F-JYfQ"
      },
      "source": [
        "Overall, the performance of the gradient boosting classifier is almost the same as the neural network. They have very similar accuracy, precision, recall, and F1 score. As its name says, it’s a boosting classifier, with many weak models such as decision trees. Gradient Boosting is a sequential process and thus every time it makes an incorrect prediction, it focuses more on that incorrectly predicted data point. In our case, it will focus more on those data which actually scores. With a number of iterations, the correctness will rise."
      ]
    },
    {
      "cell_type": "markdown",
      "metadata": {
        "id": "L7Jhs96wqfFE"
      },
      "source": [
        "# Variant 3: Latent Variable Per-Player"
      ]
    },
    {
      "cell_type": "markdown",
      "metadata": {
        "id": "SrdU6fLj1YBA"
      },
      "source": [
        "The baseline model considered only the `bodypart` and `situation` of shots. In this variant, we add a latent variable for each player in addition to the baseline model. \n",
        "\n",
        "There are 3 different `bodypart`: right_foot, left_foot, and header, and 4 different `situation`: open_play, set_piece,\tcorner, and free_kick, so for simplicity we define the 12 different combinations of `bodypart` and `situation` as a new variable `attempt`, which represents the type of attempt of a shot. And because the sample is imbalanced, with too many shots not goal, we drop the data of player and attempt combinations that never goals. It is not meaningful to predict whether a player is able to goal in a situation that he never goals before.\n",
        "\n"
      ]
    },
    {
      "cell_type": "code",
      "metadata": {
        "id": "fgNEkfwctR6Q"
      },
      "source": [
        "import pandas as pd\r\n",
        "import numpy as np\r\n",
        "import matplotlib.pyplot as plt\r\n",
        "import seaborn as sns\r\n",
        "from sklearn.model_selection import train_test_split\r\n",
        "from sklearn.metrics import accuracy_score, classification_report, confusion_matrix\r\n",
        "\r\n",
        "\r\n",
        "import jax.numpy as jnp\r\n",
        "import numpy.random as npr\r\n",
        "from jax.api import jit, grad"
      ],
      "execution_count": null,
      "outputs": []
    },
    {
      "cell_type": "code",
      "metadata": {
        "id": "3ZGmfSjvqxDC"
      },
      "source": [
        "# Import data\n",
        "events = pd.read_csv('events.csv')\n",
        "# Considering data from particular event ( \" 1 = Attempt to shot\")\n",
        "shots = events[events.event_type==1]"
      ],
      "execution_count": null,
      "outputs": []
    },
    {
      "cell_type": "code",
      "metadata": {
        "id": "y4EqM_PtrAWw"
      },
      "source": [
        "# For simplicity, convert players to numbers\n",
        "players = shots['player'].unique()\n",
        "player_mapping = {}\n",
        "num_player = len(shots['player'].unique())\n",
        "for i in range(num_player):\n",
        "  player_mapping[players[i]] = i\n",
        "shots['player'] = shots['player'].map(player_mapping)\n",
        "\n",
        "# For simplicity, define 12 types of attempts based on `bodypart` and `situation`\n",
        "shots['attempt'] = 10 * shots['bodypart'] + shots['situation']\n",
        "attempts = shots['attempt'].unique()\n",
        "attempt_mapping = {}\n",
        "num_attempt = len(shots['bodypart'].unique()) * len(shots['situation'].unique())\n",
        "for i in range(num_attempt):\n",
        "  attempt_mapping[attempts[i]] = i\n",
        "shots['attempt'] = shots['attempt'].map(attempt_mapping)"
      ],
      "execution_count": null,
      "outputs": []
    },
    {
      "cell_type": "code",
      "metadata": {
        "id": "kV3fbVIvrt-P"
      },
      "source": [
        "# Drop data of player and attempt combinations that never goal\n",
        "latent_data = shots[['player', 'attempt', 'is_goal']]\n",
        "latent_data['id'] = 100 * latent_data['player'] +latent_data['attempt']\n",
        "ids = latent_data[latent_data['is_goal'] == 1]['id'].unique()\n",
        "latent_data = latent_data[latent_data['id'].isin(ids)].drop(['id'], axis = 1)"
      ],
      "execution_count": null,
      "outputs": []
    },
    {
      "cell_type": "code",
      "metadata": {
        "id": "MxwCrpHbsD2E"
      },
      "source": [
        "# Recode the shape of the data\n",
        "num_player = len(latent_data['player'].unique())\n",
        "num_attempt = len(latent_data['attempt'].unique())\n",
        "shape = (num_player, num_attempt)\n",
        "\n",
        "# Adjust the player and attempt numbers\n",
        "players = latent_data['player'].unique()\n",
        "player_mapping = {}\n",
        "for i in range(num_player):\n",
        "  player_mapping[players[i]] = i\n",
        "latent_data['player'] = latent_data['player'].map(player_mapping)\n",
        "\n",
        "attempts = latent_data['attempt'].unique()\n",
        "attempt_mapping = {}\n",
        "for i in range(num_attempt):\n",
        "  attempt_mapping[attempts[i]] = i\n",
        "latent_data['attempt'] = latent_data['attempt'].map(attempt_mapping)"
      ],
      "execution_count": null,
      "outputs": []
    },
    {
      "cell_type": "markdown",
      "metadata": {
        "id": "h22dIdIu324J"
      },
      "source": [
        "After adjusting the dataset, we transform both the training and testing sets into sparse matrices such that each row represents a `player` and each column represents a type of `attempt`. If at least 50% of shots of $player_i$ and $attempt_j$ goal, then the $ij^{th}$ entry of the sparse matrix is 1; otherwise, the $ij^{th}$ entry of the sparse matrix is 0."
      ]
    },
    {
      "cell_type": "code",
      "metadata": {
        "id": "5vCT-SmWsRl5"
      },
      "source": [
        "# Randomly split the training and testing set\n",
        "np.random.seed(2)\n",
        "order = np.random.permutation(len(latent_data))\n",
        "latent_data = latent_data.take(order)\n",
        "cutoff = round(len(latent_data) / 5)\n",
        "test_data = latent_data[:cutoff]\n",
        "train_data = latent_data[cutoff:]"
      ],
      "execution_count": null,
      "outputs": []
    },
    {
      "cell_type": "code",
      "metadata": {
        "id": "vBHwbW5UscLb"
      },
      "source": [
        "# Convert the datasets to sparse matrix\n",
        "def sparse_matrix(latent_data, shape):\n",
        "  sparse_matrix = np.nan * np.empty(shape)\n",
        "  grouped_data = latent_data.groupby(['player', 'attempt']).mean().reset_index()\n",
        "  for i in range(len(grouped_data)):\n",
        "    u = grouped_data['player'][i]\n",
        "    q = grouped_data['attempt'][i]\n",
        "    sparse_matrix[u, q] = round(grouped_data['is_goal'][i])\n",
        "  return sparse_matrix\n",
        "\n",
        "test_matrix = sparse_matrix(test_data, shape)\n",
        "train_matrix = sparse_matrix(train_data, shape)"
      ],
      "execution_count": null,
      "outputs": []
    },
    {
      "cell_type": "markdown",
      "metadata": {
        "id": "bHI0QtlE5Uhd"
      },
      "source": [
        "## IRT Model\n",
        "\n",
        "In this variant, we implemented an Item-Response Theory (IRT) model to predict player's goal rates. The IRT model assigns each player an ability value and each attempt a difficulty value to formulate a probability distribution. In the one-parameter IRT model, $\\beta_j$ represents the difficulty of the attempt j, and $\\theta_i$ represents the ability of student i. Then, the probability that the shots of player i and attempt j could goal is formulated as:\n",
        "$$p(c_{ij}=1|\\theta_i, \\beta_j) = \\frac{exp(\\theta_i-\\beta_j)}{1+exp(\\theta_i-\\beta_j)}$$\n",
        "\n"
      ]
    },
    {
      "cell_type": "code",
      "metadata": {
        "id": "toBPSP6_ss1j"
      },
      "source": [
        "# The IRT Model\n",
        "def sigmoid(x):\n",
        "  return np.exp(x) / (1 + np.exp(x))\n",
        "\n",
        "\n",
        "def neg_log_likelihood(data, theta, beta):\n",
        "  diff = theta.reshape((data.shape[0], 1)) - beta.reshape((1, data.shape[1]))\n",
        "  m = np.multiply(data, diff) - np.log(1 + np.exp(diff))\n",
        "  m[np.isnan(m)] = 0\n",
        "  log_lklihood = np.sum(m)\n",
        "  return -log_lklihood\n",
        "\n",
        "def update_theta_beta(data, lr, theta, beta):\n",
        "  diff = theta.reshape((data.shape[0], 1)) - beta.reshape((1, data.shape[1]))\n",
        "  # gradient descent of theta\n",
        "  m1 = data - sigmoid(diff)\n",
        "  m1[np.isnan(m1)] = 0\n",
        "  d1 = np.sum(m1, axis=1)\n",
        "  theta = theta + lr * d1\n",
        "  # gradient descent of beta\n",
        "  m2 = -data + sigmoid(diff)\n",
        "  m2[np.isnan(m2)] = 0\n",
        "  d2 = np.sum(m2, axis=0)\n",
        "  beta = beta + lr * d2\n",
        "  return theta, beta\n",
        "\n",
        "def evaluate(data, theta, beta):\n",
        "  preds = []\n",
        "  for i in range(data.shape[0]):\n",
        "    for j in range(data.shape[1]):\n",
        "      target = data[i,j]\n",
        "      if target == 0 or target == 1:\n",
        "        pred = round(sigmoid((theta[i] - beta[j]).sum()))\n",
        "        if pred == 0:\n",
        "          continue\n",
        "        preds.append(pred == target)\n",
        "  return sum(preds) / len(preds)\n",
        "\n",
        "def evaluate_all(data, theta, beta):\n",
        "  preds = []\n",
        "  for i in range(data.shape[0]):\n",
        "    for j in range(data.shape[1]):\n",
        "      target = data[i,j]\n",
        "      if target == 0 or target == 1:\n",
        "        pred = round(sigmoid((theta[i] - beta[j]).sum()))\n",
        "        preds.append(pred == target)\n",
        "  return sum(preds) / len(preds)\n",
        "\n",
        "\n",
        "def irt(data, val_data, lr, iterations):\n",
        "  theta = np.zeros(data.shape[0])\n",
        "  beta = np.zeros(data.shape[1])\n",
        "\n",
        "  # list to stored values\n",
        "  train_nllk_lst = []\n",
        "  valid_nllk_lst = []\n",
        "\n",
        "  for i in range(iterations):\n",
        "      # log-likelihood of training set\n",
        "      train_neg_lld = neg_log_likelihood(data, theta=theta, beta=beta)\n",
        "      train_nllk_lst.append(-train_neg_lld)\n",
        "      # log-likelihood of testing set\n",
        "      valid_neg_lld = neg_log_likelihood(val_data, theta=theta, beta=beta)\n",
        "      valid_nllk_lst.append(-valid_neg_lld)\n",
        "      print(\"train_nllk: {} \\t test_nllk: {}\".format(train_neg_lld, valid_neg_lld))\n",
        "      # update parameters\n",
        "      theta, beta = update_theta_beta(data, lr, theta, beta)\n",
        "\n",
        "  # TODO: You may change the return values to achieve what you want.\n",
        "  return theta, beta, train_nllk_lst, valid_nllk_lst"
      ],
      "execution_count": null,
      "outputs": []
    },
    {
      "cell_type": "code",
      "metadata": {
        "colab": {
          "base_uri": "https://localhost:8080/"
        },
        "id": "lUqJv3Ortftf",
        "outputId": "3d3441ab-33f0-4f85-a067-a91c4e64aa9c"
      },
      "source": [
        "iterations = 100\n",
        "theta, beta, train_nllk_lst, valid_nllk_lst = irt(train_matrix, test_matrix, 0.0005, iterations)\n",
        "  "
      ],
      "execution_count": null,
      "outputs": [
        {
          "output_type": "stream",
          "text": [
            "train_nllk: 5826.5951997869 \t test_nllk: 4346.725969291417\n",
            "train_nllk: 5023.893795284591 \t test_nllk: 3657.761924299098\n",
            "train_nllk: 4533.658399805418 \t test_nllk: 3243.485177569156\n",
            "train_nllk: 4212.261962079653 \t test_nllk: 2976.474630353644\n",
            "train_nllk: 3987.9316286411417 \t test_nllk: 2793.295392899025\n",
            "train_nllk: 3823.638972926018 \t test_nllk: 2661.40469200411\n",
            "train_nllk: 3698.8432292855796 \t test_nllk: 2562.8758383880686\n",
            "train_nllk: 3601.3331722222442 \t test_nllk: 2487.134938314903\n",
            "train_nllk: 3523.415731230749 \t test_nllk: 2427.5756149454587\n",
            "train_nllk: 3460.009164087826 \t test_nllk: 2379.87096819181\n",
            "train_nllk: 3407.624175572745 \t test_nllk: 2341.0752846236646\n",
            "train_nllk: 3363.7871428427316 \t test_nllk: 2309.117909256505\n",
            "train_nllk: 3326.6970718953103 \t test_nllk: 2282.503758051289\n",
            "train_nllk: 3295.0127919478127 \t test_nllk: 2260.128534170584\n",
            "train_nllk: 3267.7161027982897 \t test_nllk: 2241.160557162045\n",
            "train_nllk: 3244.020998716411 \t test_nllk: 2224.9628218565103\n",
            "train_nllk: 3223.31181821814 \t test_nllk: 2211.040195021951\n",
            "train_nllk: 3205.1001037772903 \t test_nllk: 2199.002794112964\n",
            "train_nllk: 3188.993885273901 \t test_nllk: 2188.5400592810297\n",
            "train_nllk: 3174.6754064683855 \t test_nllk: 2179.4020570953867\n",
            "train_nllk: 3161.884708703874 \t test_nllk: 2171.3857768004564\n",
            "train_nllk: 3150.407353543851 \t test_nllk: 2164.3249374293778\n",
            "train_nllk: 3140.0651190099748 \t test_nllk: 2158.0823051652633\n",
            "train_nllk: 3130.7088644433456 \t test_nllk: 2152.5438326902977\n",
            "train_nllk: 3122.212998605176 \t test_nllk: 2147.614139158225\n",
            "train_nllk: 3114.4711478530357 \t test_nllk: 2143.2129889819894\n",
            "train_nllk: 3107.3927328975697 \t test_nllk: 2139.272523334893\n",
            "train_nllk: 3100.900240688993 \t test_nllk: 2135.735064901689\n",
            "train_nllk: 3094.9270332924334 \t test_nllk: 2132.551363465884\n",
            "train_nllk: 3089.41557531545 \t test_nllk: 2129.6791835690233\n",
            "train_nllk: 3084.3159902935536 \t test_nllk: 2127.0821598315956\n",
            "train_nllk: 3079.5848776237963 \t test_nllk: 2124.728863347013\n",
            "train_nllk: 3075.1843373563206 \t test_nllk: 2122.5920357366663\n",
            "train_nllk: 3071.0811619308224 \t test_nllk: 2120.6479572900234\n",
            "train_nllk: 3067.2461628474102 \t test_nllk: 2118.875923022198\n",
            "train_nllk: 3063.653607047548 \t test_nllk: 2117.2578061086215\n",
            "train_nllk: 3060.2807429947566 \t test_nllk: 2115.7776924646264\n",
            "train_nllk: 3057.1074004804964 \t test_nllk: 2114.4215735606317\n",
            "train_nllk: 3054.1156513263672 \t test_nllk: 2113.177087144693\n",
            "train_nllk: 3051.289520621919 \t test_nllk: 2112.033297562258\n",
            "train_nllk: 3048.6147400861028 \t test_nllk: 2110.9805089509073\n",
            "train_nllk: 3046.078536688078 \t test_nllk: 2110.010105844663\n",
            "train_nllk: 3043.669450899187 \t test_nllk: 2109.114416722876\n",
            "train_nllk: 3041.3771799404785 \t test_nllk: 2108.2865968392825\n",
            "train_nllk: 3039.192442191128 \t test_nllk: 2107.520527310772\n",
            "train_nllk: 3037.1068595726665 \t test_nllk: 2106.8107279658543\n",
            "train_nllk: 3035.112855253095 \t test_nllk: 2106.1522818754493\n",
            "train_nllk: 3033.203564447925 \t test_nllk: 2105.540769833276\n",
            "train_nllk: 3031.3727564509636 \t test_nllk: 2104.9722133354244\n",
            "train_nllk: 3029.6147663211295 \t test_nllk: 2104.443024840829\n",
            "train_nllk: 3027.924434894666 \t test_nllk: 2103.949964285987\n",
            "train_nllk: 3026.2970559940723 \t test_nllk: 2103.490100986044\n",
            "train_nllk: 3024.728329873614 \t test_nllk: 2103.0607801863744\n",
            "train_nllk: 3023.2143220822372 \t test_nllk: 2102.659593638936\n",
            "train_nllk: 3021.751427043117 \t test_nllk: 2102.284353669854\n",
            "train_nllk: 3020.3363357487706 \t test_nllk: 2101.9330702820957\n",
            "train_nllk: 3018.9660070548593 \t test_nllk: 2101.6039309022813\n",
            "train_nllk: 3017.637642127178 \t test_nllk: 2101.295282435727\n",
            "train_nllk: 3016.3486616568916 \t test_nllk: 2101.005615340438\n",
            "train_nllk: 3015.0966855107213 \t test_nllk: 2100.7335494703525\n",
            "train_nllk: 3013.8795145268164 \t test_nllk: 2100.477821471861\n",
            "train_nllk: 3012.695114204792 \t test_nllk: 2100.237273546365\n",
            "train_nllk: 3011.5416000707582 \t test_nllk: 2100.010843416265\n",
            "train_nllk: 3010.4172245259983 \t test_nllk: 2099.797555352853\n",
            "train_nllk: 3009.320365011925 \t test_nllk: 2099.5965121427334\n",
            "train_nllk: 3008.24951334468 \t test_nllk: 2099.406887884979\n",
            "train_nllk: 3007.203266090619 \t test_nllk: 2099.2279215247363\n",
            "train_nllk: 3006.1803158695143 \t test_nllk: 2099.0589110406163\n",
            "train_nllk: 3005.1794434857793 \t test_nllk: 2098.899208213315\n",
            "train_nllk: 3004.1995107997673 \t test_nllk: 2098.7482139116582\n",
            "train_nllk: 3003.239454261462 \t test_nllk: 2098.6053738398814\n",
            "train_nllk: 3002.298279037806 \t test_nllk: 2098.4701746965957\n",
            "train_nllk: 3001.375053672763 \t test_nllk: 2098.3421407016644\n",
            "train_nllk: 3000.468905226042 \t test_nllk: 2098.220830452281\n",
            "train_nllk: 2999.5790148424676 \t test_nllk: 2098.1058340739723\n",
            "train_nllk: 2998.704613709246 \t test_nllk: 2097.996770636102\n",
            "train_nllk: 2997.8449793630502 \t test_nllk: 2097.893285804895\n",
            "train_nllk: 2996.9994323129513 \t test_nllk: 2097.7950497099605\n",
            "train_nllk: 2996.1673329488567 \t test_nllk: 2097.701755002956\n",
            "train_nllk: 2995.3480787083117 \t test_nllk: 2097.613115089339\n",
            "train_nllk: 2994.5411014773695 \t test_nllk: 2097.5288625162166\n",
            "train_nllk: 2993.7458652037467 \t test_nllk: 2097.448747501108\n",
            "train_nllk: 2992.961863702712 \t test_nllk: 2097.372536588046\n",
            "train_nllk: 2992.188618638152 \t test_nllk: 2097.3000114188685\n",
            "train_nllk: 2991.425677663004 \t test_nllk: 2097.23096760879\n",
            "train_nllk: 2990.6726127048387 \t test_nllk: 2097.165213716501\n",
            "train_nllk: 2989.9290183837634 \t test_nllk: 2097.102570300008\n",
            "train_nllk: 2989.194510551083 \t test_nllk: 2097.0428690503204\n",
            "train_nllk: 2988.4687249382537 \t test_nllk: 2096.9859519958936\n",
            "train_nllk: 2987.7513159066875 \t test_nllk: 2096.9316707714306\n",
            "train_nllk: 2987.041955289858 \t test_nllk: 2096.8798859452704\n",
            "train_nllk: 2986.3403313199456 \t test_nllk: 2096.8304664001744\n",
            "train_nllk: 2985.646147632005 \t test_nllk: 2096.7832887627947\n",
            "train_nllk: 2984.9591223392695 \t test_nllk: 2096.738236877591\n",
            "train_nllk: 2984.278987173803 \t test_nllk: 2096.695201321344\n",
            "train_nllk: 2983.6054866872246 \t test_nllk: 2096.6540789547835\n",
            "train_nllk: 2982.938377506702 \t test_nllk: 2096.6147725081814\n",
            "train_nllk: 2982.277427641863 \t test_nllk: 2096.5771901980497\n",
            "train_nllk: 2981.6224158386135 \t test_nllk: 2096.541245372326\n",
            "train_nllk: 2980.9731309762483 \t test_nllk: 2096.506856181716\n"
          ],
          "name": "stdout"
        }
      ]
    },
    {
      "cell_type": "code",
      "metadata": {
        "colab": {
          "base_uri": "https://localhost:8080/",
          "height": 573
        },
        "id": "grerdEK0zgE8",
        "outputId": "fb335065-4b3d-421e-adfa-8987bef08080"
      },
      "source": [
        "# plot the log-likelihood curve\n",
        "plt.figure()\n",
        "plt.title(\"Train-Loglikelihood of Each Iterations\")\n",
        "plt.ylabel(\"Loglikelihood\")\n",
        "plt.xlabel(\"Iterations\")\n",
        "plt.plot(range(iterations), train_nllk_lst, label='train')\n",
        "plt.legend()\n",
        "plt.show()\n",
        "\n",
        "plt.figure()\n",
        "plt.title(\"Validation Loglikelihood of Each Iterations\")\n",
        "plt.ylabel(\"Loglikelihood\")\n",
        "plt.xlabel(\"Iterations\")\n",
        "plt.plot(range(iterations), valid_nllk_lst, label='validation')\n",
        "plt.legend()\n",
        "plt.show()"
      ],
      "execution_count": null,
      "outputs": [
        {
          "output_type": "display_data",
          "data": {
            "image/png": "[encoded data removed]",
            "text/plain": [
              "<Figure size 432x288 with 1 Axes>"
            ]
          },
          "metadata": {
            "tags": [],
            "needs_background": "light"
          }
        },
        {
          "output_type": "display_data",
          "data": {
            "image/png": "[encoded data removed]",
            "text/plain": [
              "<Figure size 432x288 with 1 Axes>"
            ]
          },
          "metadata": {
            "tags": [],
            "needs_background": "light"
          }
        }
      ]
    },
    {
      "cell_type": "markdown",
      "metadata": {
        "id": "gtEMAte2-wQ9"
      },
      "source": [
        "## Variant 3 Model Summary and Sanity Check"
      ]
    },
    {
      "cell_type": "markdown",
      "metadata": {
        "id": "I3SA1pXn-2kj"
      },
      "source": [
        "Because of the imbalanced data, even though the baseline model predicting all shots to not goal had a very high accuracy(89%), it is not meaningful. Therefore, in this variant, we decided to change the measure of success to the accuracy of correctly predicting goals.\n",
        "\n",
        "There are four outcomes: \n",
        "\n",
        "- (0, 0): target = 0 and predict = 0\n",
        "- (0, 1): target = 0 and predict = 1\n",
        "- (1, 0): target = 1 and predict = 0\n",
        "- (1, 1): target = 1 and predict = 1\n",
        "\n",
        "The original accuracy is defined as:\n",
        "$$acc = \\frac{\\#(0,0)+\\#(1,1)}{\\#(0,0)+\\#(0,1)+\\#(1,0)+\\#(1,1)}$$\n",
        "\n",
        "Now, the adjusted accuracy is defined as:\n",
        "$$acc_{adj} = \\frac{\\#(1,1)}{\\#(0,1)+\\#(1,1)}$$\n",
        "\n",
        "Because the baseline model predicts all shots to not goal, even though $acc$ is high, the adjusted accuracy $acc_{adj}=0$."
      ]
    },
    {
      "cell_type": "code",
      "metadata": {
        "colab": {
          "base_uri": "https://localhost:8080/"
        },
        "id": "5FCS4EnLzsHS",
        "outputId": "928a8fe7-c242-4362-8a7c-49b5af21312c"
      },
      "source": [
        "train_acc = evaluate(train_matrix, theta, beta)\n",
        "test_acc = evaluate(test_matrix, theta, beta)\n",
        "train_acc_all = evaluate_all(train_matrix, theta, beta)\n",
        "test_acc_all = evaluate_all(test_matrix, theta, beta)\n",
        "print(\"Training Accuracy:\", train_acc, train_acc_all)\n",
        "print(\"Test Accuracy:\", test_acc, test_acc_all)"
      ],
      "execution_count": null,
      "outputs": [
        {
          "output_type": "stream",
          "text": [
            "Training Accuracy: 0.5456204379562044 0.839043540328337\n",
            "Test Accuracy: 0.5165441176470589 0.8591931111465476\n"
          ],
          "name": "stdout"
        }
      ]
    },
    {
      "cell_type": "markdown",
      "metadata": {
        "id": "S5quSnzg_gJO"
      },
      "source": [
        "\\begin{array}{ccc}\n",
        "&TrainingAccuracy&TestingAccuracy&AdjustedTrainingAccuracy&AdjustedTestingAccuracy\\\\\n",
        "BaselineModel& 89.30707 & 89.43854&0&0\\\\\n",
        "Variant3&83.90435&85.91931&54.56204&51.65411\\\\\n",
        "\\end{array}"
      ]
    },
    {
      "cell_type": "markdown",
      "metadata": {
        "id": "PGjxZuLlAnQ9"
      },
      "source": [
        "From the table above, both the adjusted training accuracy and the adjusted testing accuracy is higher than the baseline model. However, the overall accuracy is slightly lower than the baseline model, because although the varaint avoids more type 2 error than the baseline model, it also causes some type 1 error.\n",
        "\n",
        "Therefore, this variant model works better for shots that successfully goal, but works worse for shots that not goal."
      ]
    },
    {
      "cell_type": "markdown",
      "metadata": {
        "id": "lKfynxpnDfqy"
      },
      "source": [
        "## Result and Limitation"
      ]
    },
    {
      "cell_type": "markdown",
      "metadata": {
        "id": "71p1KlHbDhxH"
      },
      "source": [
        "- This variant model is able to predict whether a `player` could goal with a given `bodypart` and in a given `situation`.\n",
        "\n",
        "- The training and testing set is randomly splitted as in the baseline model. \n",
        "\n",
        "- The adjusted accuracy of both the training and testing sets are 50% higher than the baseline model. Because we know only 11% of shots successfully goal, the adjusted accuracy of a random guess of goal is around 11. Therefore, the outcome of the varaint is also around 40% better than a random guess. Even though the overall accuracy of simply predicting all shots to not goal is slightly higher than this model, it is not meaningful to do such a prediction.\n",
        "\n",
        "- If the model predicts a shot to goal, the accuracy of the prediction is more than 50%. Therefore, if the coach wants to ensure a goal in some given situations, he could make decisions based on this model. For instance, when the coach is deciding the strategy of a free-kick, he could choose a player to shot with the body part such that the model predicts that it would goal. In this situation, more than 50% of chances the free-kick could goal and earn a point for the team.\n",
        "\n",
        "- However, because the model depends on player latents and the player latents are trained based on a player's previous shots data, many new players with few data avaliable would hurt the accuracy."
      ]
    }
  ]
}
